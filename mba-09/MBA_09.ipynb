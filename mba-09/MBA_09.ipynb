{
 "cells": [
  {
   "cell_type": "markdown",
   "id": "3bef5f2c",
   "metadata": {},
   "source": [
    "<center> <h5>Wintersemester 2024/25</h5> </center>\n",
    "<center> <h1>Medizinische Bildanalyse</h1> </center>\n",
    "<center> <h3>Aufgabenblatt 9</h3> </center>\n",
    "<center> <h5>09. Dezember 2024</h5> </center>\n",
    "<center> <h5>\n",
    "    Prof. Dr. Thomas Schultz, \n",
    "    <a href = \"mailto: jlen@uni-bonn.de\">Jonathan Lennartz</a>,\n",
    "    <a href = \"mailto: jgruen@uni-bonn.de\">Dr. Johannes Grün</a>\n",
    "</h5> </center>\n",
    "<center> <h5>Abgabefrist: <b>16.12.2024, 10:00 Uhr, via eCampus</b></h5> </center>\n",
    "</br>\n"
   ]
  },
  {
   "cell_type": "markdown",
   "id": "c41cc964",
   "metadata": {},
   "source": [
    "### Aufgabe 1 (Euler-Lagrange-Formalismus, 10 Punkte)\n",
    "a) Sei $f(x)$ ein auf $x\\in[0,b]$ definiertes Signal, z.B. eine Bildzeile (der Einfachheit halber betrachten wir in dieser Aufgabe 1D-Signale, die Ergebnisse lassen sich aber auf 2D- und 3D-Bilder übertragen). Wir suchen nun nach einem Signal $u(x)$, das folgendes Energiefunktional minimiert:\n",
    "$$E(u)=\\frac{1}{2}\\int_0^b \\left(u(x)-f(x)\\right)^2 + \\lambda \\left(u^\\prime(x)\\right)^2\\,dx$$\n",
    "Welche Lösung ist für $\\lambda=0$ zu erwarten? Welche Lösungen erwarten wir für immer größer werdende positive $\\lambda$? (4P)"
   ]
  },
  {
   "cell_type": "markdown",
   "id": "48b108f2",
   "metadata": {},
   "source": [
    "_Antwort:_ Für $\\lambda = 0$ ist $u(x) = f(x)$ zu erwarten, da wir das Signal $u(x)$ genau an die Eingabe $f(x)$ anpassen. Bei größer werdendem Lambda wird das Energiefunktional durch die Ableitung von $u(x)$ regularisiert, wodurch es glatter wird bzw. weniger Rauschen oder Variationen enthält."
   ]
  },
  {
   "cell_type": "markdown",
   "id": "c54a4aa8",
   "metadata": {},
   "source": [
    "b) Wie lautet die Euler-Lagrange-Gleichung, die ein optimales $u$ erfüllen muss? (2P)"
   ]
  },
  {
   "cell_type": "markdown",
   "id": "d3585a3e",
   "metadata": {},
   "source": [
    "_Antwort:_ \n",
    "\n",
    "Die Lagrange-Funktion ist gegeben durch:\n",
    "\n",
    "$$L(x, u(x), u'(x)) = \\frac{1}{2} (u(x) - f(x))^2 + \\frac{\\lambda}{2} (u'(x))^2$$\n",
    "\n",
    "Damit ist die notwendige Bedingung:\n",
    "\n",
    "\\begin{align*}\n",
    "&\\frac{\\partial L}{\\partial u} - \\frac{\\partial}{\\partial x} \\left( \\frac{\\partial L}{\\partial u'} \\right) & &= 0 \\\\\n",
    "\\Leftrightarrow &\\frac{1}{2} \\cdot 2 \\cdot (u(x) - f(x)) - \\frac{\\mathrm{d}}{\\mathrm d x} \\left( \\frac{\\lambda}{2} \\cdot 2 \\cdot u'(x) \\right) & &= 0 \\\\\n",
    "\\Leftrightarrow &u(x) - f(x) - \\lambda \\cdot u''(x) & &= 0\n",
    "\\end{align*}"
   ]
  },
  {
   "cell_type": "markdown",
   "id": "7d1893a1",
   "metadata": {},
   "source": [
    "c) Wie lautet die Update-Gleichung, die man verwenden würde, um per Gradientenabstieg und einen Zeitparameter $t$ ein lokales Optimum von $u(x,t)$ zu finden? (2P)"
   ]
  },
  {
   "cell_type": "markdown",
   "id": "c2ab0f46",
   "metadata": {},
   "source": [
    "_Antwort:_\n",
    "\n",
    "\\begin{align*}\n",
    "u(x,t) - f(x) - \\lambda u''(x,t) &= - \\frac{\\partial u(x,t)}{\\partial t} \\\\\n",
    "u(x,t) - f(x) - \\lambda u''(x,t) &= - \\frac{u(x,t + \\Delta t) - u(x,t)}{\\Delta t} \\\\\n",
    "-(u(x,t) - f(x) - \\lambda u''(x, t)) \\cdot \\Delta t + u(x,t) &= u(x, t + \\Delta t) \\\\\n",
    "u(x, t + \\Delta t) &= (-u(x,t) + f(x) + \\lambda u''(x, t)) \\cdot \\Delta t + u(x,t)\n",
    "\\end{align*}"
   ]
  },
  {
   "cell_type": "markdown",
   "id": "821219dd",
   "metadata": {},
   "source": [
    "d) Was ist zu erwarten, wenn wir den Term $(u-f)^2$ ganz aus dem Energiefunktional entfernen? (2P)"
   ]
  },
  {
   "cell_type": "markdown",
   "id": "8f845b43",
   "metadata": {},
   "source": [
    "_Antwort:_ Wenn wir den Term aus dem Energiefunktional entfernen, wird $u(x)$ nicht mehr an $f(x)$ angepasst, sondern stattdessen wird nur die Ableitung von $u(x)$ minimiert. Damit wäre das Ergebnis ein konstantes Signal."
   ]
  },
  {
   "cell_type": "markdown",
   "id": "ec917aa4",
   "metadata": {},
   "source": [
    "### Aufgabe 2 (Chan-Vese-Modell, 10 Punkte)\n",
    "a) Auf Folie 53 haben wir eine mögliche Regularisierung $\\delta_\\epsilon$ der Delta-Distribution angegeben. Findet eine Formel für die entsprechende regularisierte Heaviside (Sprung-)Funktion heraus, indem ihr $\\delta_\\epsilon$ integriert. (4P)\n",
    "\n",
    "*Tipp:* Benutzt gern eine Integraltabelle, gebt aber bitte nicht nur die Lösung an, sondern auch, welche Regeln Ihr benutzt habt."
   ]
  },
  {
   "cell_type": "markdown",
   "id": "c25afa4f",
   "metadata": {},
   "source": [
    "_Antwort:_ \n",
    "\n",
    "\\begin{equation*}\n",
    "\\int \\delta_\\epsilon(\\phi) \\mathrm{d}\\phi = \\int \\frac{1}{\\pi} \\frac{\\epsilon}{\\epsilon^2 + \\phi^2} \\mathrm{d}\\phi\n",
    "\\end{equation*}\n",
    "\n",
    "Substituiere $u = \\frac{\\phi}{\\epsilon} \\rightarrow \\mathrm{d}u = \\frac{1}{\\epsilon}\\mathrm{d}\\phi \\Leftrightarrow \\epsilon \\mathrm{d}u = \\mathrm{d}\\phi$:\n",
    "\n",
    "\\begin{equation*}\n",
    "\\int \\frac{1}{\\pi} \\frac{\\epsilon}{\\epsilon^2 + \\phi^2} \\mathrm{d}\\phi = \\int \\frac{1}{\\pi} \\frac{\\epsilon^2}{u^2 \\epsilon^2 + \\epsilon^2} \\mathrm{d}u = \\frac{1}{\\pi} \\int \\frac{1}{u^2 + 1} \\mathrm{d}u\n",
    "\\end{equation*}\n",
    "\n",
    "\n",
    "\n",
    "Wir können nun nutzen, dass $\\int \\frac{1}{x^2 + 1} \\mathrm{d}x = \\arctan(x)$ gilt und dann resubstituieren:\n",
    "\n",
    "\\begin{equation*}\n",
    "\\frac{1}{\\pi} \\int \\frac{1}{u^2 + 1} \\mathrm{d}u = \\frac{1}{\\pi} \\arctan(u) = \\frac{1}{\\pi} \\arctan\\left(\\frac{\\phi}{\\epsilon}\\right)\n",
    "\\end{equation*}"
   ]
  },
  {
   "cell_type": "markdown",
   "id": "f7ed72e2",
   "metadata": {},
   "source": [
    "b) Erweitert das Energiefunktional des Chan-Vese-Modells so, dass nicht nur die Länge der Kanten, sondern zusätzlich die Fläche des Vordergrunds regularisiert wird. Führt dazu einen neuen Parameter $\\lambda$ ein, der es erlaubt die Stärke dieser Regularisierung zu variieren. (2P)"
   ]
  },
  {
   "cell_type": "markdown",
   "id": "4e43e6cb",
   "metadata": {},
   "source": [
    "_Antwort:_ \n",
    "\n",
    "$$\\int_{\\Omega} H(\\phi(x)) (I(x) - \\mu_1)^2 + (1 - H(\\phi(x))) (I(x) - \\mu_2)^2 + \\nu \\|\\nabla H(\\phi(x))\\| \\mathrm{d} x + \\lambda \\int_{\\Omega} H(\\phi(x)) \\mathrm{d} x$$\n",
    "$$= \\int_{\\Omega} H(\\phi(x)) (I(x) - \\mu_1)^2 + (1 - H(\\phi(x))) (I(x) - \\mu_2)^2 + \\nu \\|\\nabla H(\\phi(x))\\| + \\lambda H(\\phi(x)) \\mathrm{d} x$$"
   ]
  },
  {
   "cell_type": "markdown",
   "id": "07f706b1",
   "metadata": {},
   "source": [
    "c) Benutzt die Euler-Langrange-Gleichung um die Update-Regel aus der Vorlesung um einen b) entsprechenden neuen Term zu ergänzen. (4P)"
   ]
  },
  {
   "cell_type": "markdown",
   "id": "f3e2c216",
   "metadata": {},
   "source": [
    "_Antwort:_ Wenn wir den Regularisierungsterm nach $\\phi(x)$ ableiten, erhalten wir:\n",
    "\n",
    "$$\\frac{\\partial}{\\partial \\phi} \\lambda H(\\phi) = \\delta_\\epsilon (\\phi) \\cdot \\lambda$$\n",
    "\n",
    "In den Folien war bereits die Update-Regel ohne unsere Regularisierung gegeben:\n",
    "\n",
    "$$\\frac{\\partial \\phi}{\\partial t} = \\delta_\\epsilon(\\phi) \\left[ (I - \\mu_2)^2 - (I - \\mu_1)^2 + \\nu \\cdot \\text{div} \\left( \\frac{\\nabla \\phi}{| \\nabla \\phi |} \\right) \\right]$$\n",
    "\n",
    "Davon können wir nun die Ableitung subtrahieren:\n",
    "\n",
    "$$\\frac{\\partial \\phi}{\\partial t} = \\delta_\\epsilon(\\phi) \\left[ (I - \\mu_2)^2 - (I - \\mu_1)^2 + \\nu \\cdot \\text{div} \\left( \\frac{\\nabla \\phi}{| \\nabla \\phi |} \\right) -\\lambda \\right]$$\n",
    "\n",
    "Nun muss noch der Gradienten-Schritt hergeleitet werden:\n",
    "\n",
    "$$\\phi(x, t + \\Delta t) = \\phi(x, t) + \\Delta t \\cdot \\left( \\delta_\\epsilon(\\phi(x,t)) \\left[ (I - \\mu_2)^2 - (I - \\mu_1)^2 + \\nu \\cdot \\text{div} \\left( \\frac{\\nabla \\phi(x,t)}{| \\nabla \\phi(x,t) |} \\right) -\\lambda \\right] \\right)$$"
   ]
  },
  {
   "cell_type": "markdown",
   "id": "4caa1a0d",
   "metadata": {},
   "source": [
    "### Aufgabe 3 (Segmentierung mit Aktiven Konturen - Fortsetzung, 10 Punkte)\n",
    "\n",
    "<center><img alt=\"\" src=\"konturen.png\" width=\"100%\"/></center>\n",
    "<center>Abbildung: Segmentierung des Sehnervenkopfes (links) und eines Blutgefäßes (rechts) mittels aktiver Konturen.</center>"
   ]
  },
  {
   "cell_type": "markdown",
   "id": "d5ce8204",
   "metadata": {},
   "source": [
    "a) Als alternative Initialisierung wollen wir auch Ellipsen zulassen, die sich mittels der \"draw circle\" Methode erzeugen lassen. Deren Hauptrichtung ist immer parallel zu der $x$ oder $y$ Achse. Damit kann die Ellipse durch die minimalen und maximalen $(x,y)$-Koordinaten vollständig beschrieben werden. Wir wollen auch diese Ellipse mit `n_points` Stützstellen abtasten.  \n",
    "Ergänzt hierzu Code an der Stelle in `compute_snake`, die mit *Hier könnte dein Code stehen: Teil a)* markiert ist. Er soll aus den minimalen und maximalen $(x,y)$-Koordinaten ein Array der Dimension `n_points`$ \\times 2$ erzeugen, das die Ellipse über einen Polygonzug beschreibt, und es in der Variablen `poly` speichern. Die notwendige Eingabe ist in diesem Fall in `init['shapes'][0]` und dann in `x0, y0, x1, y1` gespeichert. Berechnet daraus als erstes den Mittelpunkt $\\mathbf{c}$ und die Längen $h_x$ bzw. $h_y$ der Halbachsen. Dann lässt sich das Array gemäß folgender Formel berechnen:\n",
    "    $$x =  \\lbrace c_x + h_x  \\cos  \\left( \\theta \\right) \\rbrace_{\\theta \\in \\left[ 0 , 2 \\pi \\right] } $$\n",
    "    $$y =  \\lbrace c_y + h_y  \\sin  \\left( \\theta \\right) \\rbrace_{\\theta \\in \\left[ 0 , 2 \\pi \\right] }. $$  \n",
    "Tipp: Achtet darauf die erzeugten Koordinaten gemäß der scikit-image Indizierung (Zeile,Spalte) auch hier in der Reihenfolge $(y,x)$ abzulegen. (7P)"
   ]
  },
  {
   "cell_type": "markdown",
   "id": "4f339997",
   "metadata": {},
   "source": [
    "b) Findet nun geeignete Parameter, um den Sehnervenkopf zu segmentieren. Macht wieder einen Screenshot von Eurem Ergebnis, der auch die Parameter zeigt. (3P)  \n",
    "_Tipp:_ Für den Fall, dass Ihr mit Teil a) Probleme hattet, geben wir auch hier eine mögliche Initialisierung als `.csv`-Datei vor. Zeichnet in dem Fall eine beliebige Ellipse ein, damit der entsprechende Code ausgeführt wird."
   ]
  },
  {
   "cell_type": "markdown",
   "id": "28470020",
   "metadata": {},
   "source": [
    "<center><img src=\"contour.png\" width=80%></center>"
   ]
  },
  {
   "cell_type": "markdown",
   "id": "2121dcf6",
   "metadata": {},
   "source": [
    "### Aufgabe 4 (Rotation per Singulärwertzerlegung, 20 Punkte)\n",
    "\n",
    "\n",
    "<center><img alt=\"123\" src=\"handrotation.png\" width=\"80%\"/></center>\n",
    "<center>Abbildung 1: Form zweier Hände die sich nur durch eine Rotation unterscheiden. Ziel der Aufgabe ist es eine Rotation zu finden die, die l2 Distanz der Stützstellen, hier dargstellt durch Punkte, minimiert. In der Praxis ist es nicht notwendig dass beide Formen identisch sind. Sie müssen nur gleich viele Stützstellen haben.</center>\n",
    "\n",
    "\n",
    "Eine Form wird durch $n$ Stützstellen dargestellt (vergleiche Abbildung 1). Eine häufige Aufgabe ist es zwei Formen $X \\in \\mathbb{R}^{n\\times2}$ und $Y \\in \\mathbb{R}^{n\\times2}$ in 2D aufeinander auszurichten, wobei Skalierung, Verschiebung und Rotation zugelassen sind. In dieser Aufgabe werden wir zeigen, wie man mittels Singulärwertzerlegung die $l2$-optimale Rotation finden kann. \n",
    "\n",
    "Die Singulärwertzerlegung existiert für jede Matrix $A \\in \\mathbb{R}^{m \\times n}$ und hat die Gestalt\n",
    "$$ A = U \\Sigma V^T , $$\n",
    "wobei $U \\in \\mathbb{R}^{m\\times m}$ und $V \\in \\mathbb{R}^{n \\times n}$ orthogonale Matrizen sind und $\\Sigma$ eine Diagonalmatrix mit monoton sinkenden positiven Diagonalelementen. Die Spalten der Matrizen $U$ und $V$ enthalten die Links/Rechts-Singulärvektoren und die Matrix $\\Sigma$ die Singulärwerte.\n",
    "\n",
    "Mit dieser Singulärwertzerlegung kann man nun die optimale Rotation berechnen indem man zuerst die Kreuzkovarianzmatrix \n",
    "$$ W = X^T Y \\in \\mathbb{R}^{2 \\times 2}$$\n",
    "berechnet. Anschließend berechnen wir die Singulärwertzerlegung der Kreuzkovarianzmatrix $W = U \\Sigma V^T$. Die optimale Rotation ergibt sich nun via \n",
    "$$ R = VU^T.$$\n",
    "Wir zeigen Optimalität bzgl.  kleinster Quadrate:\n",
    "$$ \\sum_{i = 1}^N \\| R\\mathbf{x}_i - \\mathbf{y}_i \\|^2, $$\n",
    " wobei $\\mathbf{x}_i$ die Zeilen von $X$ und $\\mathbf{y}_i$ die Zeilen von $Y$ sind.\n",
    "Dazu ist zu zeigen, dass $R = VU^T$ mit $U$ und $V$ aus der Singulärwertzerlegung der Kreuzkovarianzmatrix $X^T Y = U \\Sigma V^T \\in \\mathbb{R}^{2 \\times 2}$ eine optimale Rotation ist, sofern $\\det \\left( R \\right) = 1$ ist. "
   ]
  },
  {
   "cell_type": "markdown",
   "id": "a4dbb2d2",
   "metadata": {},
   "source": [
    "a) Zeigt, dass \n",
    "$$ \\sum_{i = 1}^N \\| R\\mathbf{x}_i -\\mathbf{y}_i \\|^2 = \\text{tr} \\left( X X^T \\right)  + \\text{tr} \\left( Y Y^T \\right) -  2 \\text{tr} \\left( Y R X^T \\right) , $$\n",
    "wobei $R \\in \\mathbb{R}^{2 \\times 2}$ und $\\text{tr}$ die Spur ist. (6P)  \n",
    "_Tipp:_ Denkt daran, dass eine Matrix und ihre Transponierte dieselbe Spur haben."
   ]
  },
  {
   "cell_type": "markdown",
   "id": "7489548a",
   "metadata": {},
   "source": [
    "_Lösung:_\n",
    "\n",
    "\\begin{align*}\n",
    "\\text{tr}(XX^T) + \\text{tr}(YY^T) - 2 \\text{tr}(YRX^T) &= \\text{tr}(XX^T) + \\text{tr}(YY^T) - \\text{tr}(YRX^T) - \\text{tr}(XR^TY^T) \\\\\n",
    "&= \\sum_{i=1}^N x_i^T x_i + y_i^T y_i - y_i^T R x_i - x_i^T R^T y_i\n",
    "\\end{align*}\n",
    "\n",
    "\\begin{align*}\n",
    "\\sum_{i=1}^N \\| Rx_i - y_i \\|^2\n",
    "&= \\sum_{i=1}^N (Rx_i - y_i)^T (Rx_i - y_i) \\\\\n",
    "&= \\sum_{i=1}^N (x_i^T R^T - y_i^T)(Rx_i - y_i) \\\\\n",
    "&= \\sum_{i=1}^N x_i^T R^T R x_i - y_i^T Rx_i - x_i^T R^T y_i + y_i^T y_i \\\\\n",
    "&= \\sum_{i=1}^N x_i^T x_i - y_i^T y_i - y_i^T Rx_i - x_i^T R^T y_i\n",
    "\\end{align*}\n",
    "\n",
    "Dabei haben wir genutzt, dass $R^T R = (VU^T)^T (VU^T) = UV^TVU^T = I$ gilt. Es ist nun leicht zu sehen, dass zwischen beiden Aussagen Gleichheit gilt."
   ]
  },
  {
   "cell_type": "markdown",
   "id": "4c5cc0f4",
   "metadata": {},
   "source": [
    "b) Zeigt die folgende Ungleichung unter der Annahme, dass $X^TY = U\\Sigma V^T$, wobei $U$, $V$ orthogonale Matrizen sind und $\\Sigma$ eine Diagonalmatrix mit nicht negativen Elementen $\\sigma_i\\geq 0$ ist:\n",
    "$$ \\text{tr} \\left( Y R X^T \\right) \\leq \\sum_{i=1}^n \\sigma_i $$\n",
    " (6P)  \n",
    "_Tipp:_ Nutzt zunächst Eigenschaften der Spur, um $\\text{tr} \\left( Y R X^T\\right)$ so umzuformen, dass ihr die Singulärwertzerlegung einsetzen könnt. Überlegt euch dann entweder, dass \n",
    "$$ \\text{tr} \\left ( QD \\right) \\leq \\sum_i d_{ii} $$\n",
    "gilt, wenn $Q$ eine orthogonale Matrix ist und $D$ eine Diagonalmatrix mit nicht negativen Einträgen $d_{ii} \\geq 0$ und formt so um, dass ihr das ausnutzen könnt, oder nutzt die Cauchy-Schwarzsche Ungleichung."
   ]
  },
  {
   "cell_type": "markdown",
   "id": "a3892a22",
   "metadata": {},
   "source": [
    "_Lösung:_ \n",
    "\n",
    "Wir können aus der Definition der Spur und der Matrixmultiplikation für $A \\in \\mathbb{R}^{m \\times n}, B \\in \\mathbb{R}^{n \\times m}$ folgern:\n",
    "\n",
    "\\begin{equation*}\n",
    "\\text{tr}(AB) = \\sum_{i=1}^m \\sum_{j=1}^n a_{ij} b_{ji} = \\sum_{j=1}^n \\sum_{i=1}^m b_{ji} a_{ij} = \\text{tr}(BA)\n",
    "\\end{equation*}\n",
    "\n",
    "Wir können also nun umformen:\n",
    "\n",
    "\\begin{equation*}\n",
    "\\text{tr}(YRX^T) = \\text{tr}(RX^TY) = \\text{tr}(RU \\Sigma V^T) = \\text{tr}(V^T RU \\Sigma)\n",
    "\\end{equation*}\n",
    "\n",
    "Nun wenden wir die Cauchy-Schwarz Ungleichung im reellen Fall ($x^Ty \\le \\|x\\|_2 \\|y\\|_2$) auf die Spur an:\n",
    "\n",
    "\\begin{equation*}\n",
    "\\text{tr}(A^T B) = \\sum_i a_i^T b_i \\le \\sum_i \\|a_i\\|_2 \\|b_i\\|_2\n",
    "\\end{equation*}\n",
    "\n",
    "Dabei ist $a_i$ die $i$-te Spalte von $A$ und genauso für $b_i$. Wenden wir das nun auf das Ergebnis von oben an, erhalten wir:\n",
    "\n",
    "\\begin{equation*}\n",
    "\\text{tr}(V^T RU \\Sigma) = \\text{tr}((U^T R^T V)^T \\Sigma) \\le \\sum_i \\|(U^T R^T V)_i \\|_2 \\|\\Sigma_i\\|_2 \\le \\sum_i \\|\\Sigma_i\\|_2 = \\sum_i \\sigma_i\n",
    "\\end{equation*}\n"
   ]
  },
  {
   "cell_type": "markdown",
   "id": "1892b0e8",
   "metadata": {},
   "source": [
    "c) Zeigt, dass \n",
    "$$  \\text{tr} \\left( Y R X^T \\right) = \\sum_{i=1}^n \\sigma_i $$\n",
    "gilt, wenn wir $R = VU^T$ wählen. (4P)"
   ]
  },
  {
   "cell_type": "markdown",
   "id": "ed42b027",
   "metadata": {},
   "source": [
    "_Lösung:_ \n",
    "\n",
    "Setzen wir $R = VU^T$, erhalten wir anhand des obigen Zwischenergebnisses:\n",
    "\n",
    "\\begin{equation*}\n",
    "\\text{tr}(V^T RU \\Sigma) = \\text{tr}(V^T V U^T U \\Sigma) = \\text{tr}(\\Sigma) = \\sum_i \\sigma_i\n",
    "\\end{equation*}"
   ]
  },
  {
   "cell_type": "markdown",
   "id": "de0acbfe",
   "metadata": {},
   "source": [
    "d) Wieso haben wir damit gezeigt, dass die Rotationsmatrix optimal ist? (2P)"
   ]
  },
  {
   "cell_type": "markdown",
   "id": "6c10bc2a",
   "metadata": {},
   "source": [
    "_Lösung:_"
   ]
  },
  {
   "cell_type": "markdown",
   "id": "2ea951da",
   "metadata": {},
   "source": [
    "e) Inwiefern ist es wichtig, dass $\\det \\left( R \\right) = 1$ gilt? (2P)"
   ]
  },
  {
   "cell_type": "markdown",
   "id": "3556f6c9",
   "metadata": {},
   "source": [
    "_Lösung:_"
   ]
  }
 ],
 "metadata": {
  "kernelspec": {
   "display_name": "Python 3 (ipykernel)",
   "language": "python",
   "name": "python3"
  },
  "language_info": {
   "codemirror_mode": {
    "name": "ipython",
    "version": 3
   },
   "file_extension": ".py",
   "mimetype": "text/x-python",
   "name": "python",
   "nbconvert_exporter": "python",
   "pygments_lexer": "ipython3",
   "version": "3.9.13"
  }
 },
 "nbformat": 4,
 "nbformat_minor": 5
}

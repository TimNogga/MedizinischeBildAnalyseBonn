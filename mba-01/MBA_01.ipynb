{
 "cells": [
  {
   "cell_type": "markdown",
   "id": "59a1a74d-abbc-4afc-8350-68ccc9c238b5",
   "metadata": {},
   "source": [
    "<center> <h5>Wintersemester 2024/25</h5> </center>\n",
    "<center> <h1>Medizinische Bildanalyse</h1> </center>\n",
    "<center> <h3>Aufgabenblatt 1</h3> </center>\n",
    "<center> <h5>4. Oktober 2024</h5> </center>\n",
    "<center> <h5>\n",
    "    Prof. Dr. Thomas Schultz, \n",
    "    <a href = \"mailto: jlen@uni-bonn.de\">Jonathan Lennartz</a>,\n",
    "    <a href = \"mailto: jgruen@uni-bonn.de\">Dr. Johannes Grün</a>\n",
    "</h5> </center>\n",
    "<center> <h5>Abgabefrist: <b>21.10.2024, 10:00 Uhr, via eCampus</b></h5> </center>\n",
    "</br>\n",
    "\n",
    "* Bei Fragen bezüglich der Aufgaben nutzt das Forum in eCampus\n",
    "  \n",
    "* Die Aufgaben können in Gruppen von **bis zu drei** Studierenden abgegeben werden (eine Abgabe pro Gruppe). Findet euch dazu auf eCampus in Teams zusammen.\n",
    "* Ladet die Abgaben in einem Zip-Archiv hoch. Es sollte das Notebook selbst, einen Export als HTML oder PDF und alle nötigen Datein enthalten, um die Ergebnisse zu reproduzieren."
   ]
  },
  {
   "cell_type": "markdown",
   "id": "55c6061f-e35c-40c6-9173-3e1e344f7b5b",
   "metadata": {},
   "source": [
    "### Aufgabe 1 (Faltungseigenschaften, 6 Punkte)\n",
    "\n",
    "Zeigt mit Hilfe der Definition für die diskrete 1D Faltungsoperation\n",
    "$$(f*g)(x)=\\sum_{u=-\\infty}^\\infty f(u)g(x-u)$$\n",
    "dass\n",
    "1. der Faltungsoperator kommutativ ist: $(f*g)(x)=(g*f)(x)$ (3P)  </li>\n",
    "2. der Faltungsoperator assoziativ ist: $((f*g)*h)(x)=(f*(g*h))(x)$ (3P)  </li>"
   ]
  },
  {
   "cell_type": "markdown",
   "id": "67317534-6dab-45dd-83b0-8d41a84965bc",
   "metadata": {},
   "source": [
    "#Lösung:"
   ]
  },
  {
   "cell_type": "markdown",
   "id": "9462eb71-fede-41da-927a-5b4abbaed688",
   "metadata": {},
   "source": [
    "### Aufgabe 2 (Faltungsbasierte Bildfilterung, 6 Punkte)\n",
    "\n",
    "1. Gegeben sei ein 15x15 Kern (k1), in welchem alle Diagonalelemente $\\frac{1}{15}$ sind und alle Nicht-Diagonalelemente null. Welchen Effekt hat dieser Filter? (1P)</li>\n",
    "2. Gegeben sei ein weiterer 15x15 Kern (k2), in welchem alle Elemente in der achten Reihe $\\frac{1}{15}$ sind und alle anderen null. Welchen Effekt hat dieser Filter? (1P)</li>\n",
    "3. Angenommen, wir wenden k1 und k2 nacheinander auf das selbe Bild an. Beschreibt kurz den Unterschied, der bei Vertauschung der Reihenfolge entsteht. (2P)</li>\n",
    "4. Gibt es einen Unterschied zwischen der Anwendung von k1 und k2 nacheinander und einer einmaligen Anwendung eines 15x15 Kerns mit $\\frac{1}{15}$ auf der Diagonalen und in der achten Reihe, der ansonsten nur Nullen aufweist? Wenn nicht, erklärt kurz warum. Wenn doch, wie müsste ein Kern aussehen, dessen Anwendung äquivalent zur Anwendung von k1 und k2 ist? (2P)"
   ]
  },
  {
   "cell_type": "markdown",
   "id": "7b28073a-e1af-44e7-918f-9c5a7fa05676",
   "metadata": {},
   "source": [
    "#Lösung:"
   ]
  },
  {
   "cell_type": "markdown",
   "id": "2bfd2253-83f0-4e35-ba25-8f3d5ae3de1e",
   "metadata": {},
   "source": [
    "### Aufgabe 3 (NumPy-Tricks, 18 Punkte)  \n",
    "In der Bildverarbeitung müssen Operationen häufig auf vielen Pixeln gleichzeitig durchgeführt werden. Mit den richtigen Tricks kann man solche Probleme mit NumPy häufig elegant in einer einzelnen Zeile lösen. Meistens läuft solcher Code sogar deutlich schneller als kompliziertere, z.B. als Schleifen \"handgeschriebene\" Lösungen. Diese Aufgabe möchte Euch diese Möglichkeiten näherbringen. Im Laufe des Semesters könnt Ihr sie dann immer wieder anwenden. Es ist möglich, jede Teilaufgabe mit einer Zeile Code zu lösen (79 Zeichen inklusive Leerzeichen, ausgenommen sind imports und Kommentare)."
   ]
  },
  {
   "cell_type": "markdown",
   "id": "f8257fa8-43e1-4777-9565-00e6f952a0c9",
   "metadata": {},
   "source": [
    "#### a) Erzeugt mit ```np.linspace``` ein Array mit den Zahlen von 0 bis 100 (einschließlich) in 10er-Schritten. (1P)"
   ]
  },
  {
   "cell_type": "code",
   "id": "166a67b6-5ade-4edf-b3c8-a41927ba0ea2",
   "metadata": {
    "ExecuteTime": {
     "end_time": "2024-10-06T18:29:05.519124Z",
     "start_time": "2024-10-06T18:29:02.079740Z"
    }
   },
   "source": [
    "import numpy as np\n",
    "\n",
    "#Lösung:"
   ],
   "outputs": [],
   "execution_count": 2
  },
  {
   "cell_type": "markdown",
   "id": "99080bf1-bcd0-44ad-b384-0a311e0139aa",
   "metadata": {},
   "source": [
    "#### b) Das gleich Array lässt sich auch mit der Funktion ```np.arange``` erzeugen, wie? Was ist der Unterschied zwischen beiden Funktionen? (2P)"
   ]
  },
  {
   "cell_type": "code",
   "execution_count": 83,
   "id": "d50544d3-7b9c-4d03-b916-6e747a9fe6e3",
   "metadata": {},
   "outputs": [],
   "source": [
    "# Lösung"
   ]
  },
  {
   "cell_type": "markdown",
   "id": "8d7b7b93",
   "metadata": {},
   "source": [
    "#### c) Auch mit der `range` Funktion lässt sich ein solches Array erstellen, wie? Wieso oder wann ist es vorteilhaft die numpy Funktionen zu benutzen? (1P)"
   ]
  },
  {
   "cell_type": "code",
   "execution_count": 84,
   "id": "ec1b0b4f-e28e-4440-a2bd-5f1db9adf60a",
   "metadata": {},
   "outputs": [],
   "source": [
    "# Lösung:"
   ]
  },
  {
   "cell_type": "markdown",
   "id": "fe9146fa",
   "metadata": {},
   "source": [
    "#### d) Erzeugt mit ```np.linspace``` eine 11x3-Matrix, in deren drei Spalten Zahlen von 0 bis 10 (einschließlich), 0 bis 100, bzw. 0 bis 1000 stehen. Wählt die Schrittgröße so, dass die Sprünge innerhalb jeder Spalte gleichmäßig sind. (2P)"
   ]
  },
  {
   "cell_type": "code",
   "execution_count": 85,
   "id": "ed50d8df-f71b-402b-8a84-d5e852f8bcfe",
   "metadata": {},
   "outputs": [],
   "source": [
    "# Lösung:\n"
   ]
  },
  {
   "cell_type": "markdown",
   "id": "3e797e17",
   "metadata": {},
   "source": [
    "#### e) Erzeugt mit ```np.random.uniform``` ein 3D-Array der Größe 10x20x30, gefüllt mit gleichverteilten Zufallszahlen zwischen 0 und 10. (1P)"
   ]
  },
  {
   "cell_type": "code",
   "execution_count": 86,
   "id": "ccd255ea-a05f-4803-9bba-7fc0dd7fac39",
   "metadata": {},
   "outputs": [],
   "source": [
    "# Lösung:\n"
   ]
  },
  {
   "cell_type": "markdown",
   "id": "28977124",
   "metadata": {},
   "source": [
    "#### f) Erzeugt ein Array gefüllt mit Einsen, das dieselbe Form hat wie das Array aus der vorherigen Aufgabe. \n",
    "_Hinweis:_ Dabei ist es nicht nötig, die Form explizit abzufragen oder als Argument zu verwenden. (2P)"
   ]
  },
  {
   "cell_type": "code",
   "execution_count": null,
   "id": "eefced10",
   "metadata": {},
   "outputs": [],
   "source": [
    "# Lösung:\n"
   ]
  },
  {
   "cell_type": "markdown",
   "id": "81972a2f",
   "metadata": {},
   "source": [
    "#### g) Erzeugt den Kern eines Mittelwertfilters der Größe 3x3. (1P)"
   ]
  },
  {
   "cell_type": "code",
   "execution_count": null,
   "id": "fda396b1",
   "metadata": {},
   "outputs": [],
   "source": [
    "# Lösung:\n"
   ]
  },
  {
   "cell_type": "markdown",
   "id": "53980cbe",
   "metadata": {},
   "source": [
    "#### h) Die Variable ```img``` enthält 50 \"Bilder\" der Größe 100x100. Faltet mit einem einzigen Aufruf alle 50 Bilder mit dem Mittelwertfilter aus der vorherigen Aufgabe. (2P)\n",
    "_Tipp: Man kann Arrays zusätzliche Dimensionen geben._ "
   ]
  },
  {
   "cell_type": "code",
   "execution_count": null,
   "id": "aeec4030",
   "metadata": {},
   "outputs": [],
   "source": [
    "np.random.seed(42)\n",
    "img = np.random.uniform(0, 1, size=(100, 100, 50))\n",
    "\n",
    "# Lösung:"
   ]
  },
  {
   "cell_type": "markdown",
   "id": "5ee22eb6",
   "metadata": {},
   "source": [
    "#### i) Berechnet ein Array mit der gleichen Größe wie ```img``` und befüllt es dort mit Einsen, wo ```img``` größer ist als 0.99. Alle anderen Einträge setzt Ihr auf Null. (2P)"
   ]
  },
  {
   "cell_type": "code",
   "execution_count": null,
   "id": "9dee7785",
   "metadata": {},
   "outputs": [],
   "source": [
    "# Lösung:\n"
   ]
  },
  {
   "cell_type": "markdown",
   "id": "7f68992b",
   "metadata": {},
   "source": [
    "#### j) Summiert für jedes der 50 Bilder in ```img``` die Werte aller Pixel die größer sind als 0.99. (2P)"
   ]
  },
  {
   "cell_type": "code",
   "execution_count": null,
   "id": "35f0e921",
   "metadata": {},
   "outputs": [],
   "source": [
    "# Lösung:\n"
   ]
  },
  {
   "cell_type": "markdown",
   "id": "ba9cb19f",
   "metadata": {},
   "source": [
    "#### k) Bestimmt die Anzahl der Pixel in ```img```, die in mindestens einem der Bilder größer als 0.99 sind. (2P)"
   ]
  },
  {
   "cell_type": "code",
   "execution_count": null,
   "id": "03a3974f",
   "metadata": {},
   "outputs": [],
   "source": [
    "# Lösung\n"
   ]
  },
  {
   "cell_type": "markdown",
   "id": "8b6951ad-9177-4e1a-adc1-2f76740f8a6e",
   "metadata": {},
   "source": [
    "### Aufgabe 4 (Arbeiten mit Bildern, 20 Punkte)\n",
    "\n",
    "Im ZIP-Archiv des Übungsblattes befinden sich unter anderem die Bilder CFP.png und rgbCFP.png. Sie erscheinen im Fließtext unter Abbildung eins, sofern ihr sie in den gleichen Ordner wie das Notebook selbst extrahiert habt. \n",
    "\n",
    "Color Fundus Photography (CFP) ist ein Bildgebungsverfahren, welches den Fundus, also den hinteren Teil des Auges, sichtbar macht. Dabei wird die Retina mit weißem Licht bestrahlt, sodass sie im vollen Farbspektrum examiniert werden kann.\n",
    "<p align=\"center\">\n",
    "  <img alt=\"CFP\" src=\"CFP.png\" width=\"45%\">\n",
    "&nbsp; &nbsp; &nbsp; &nbsp;\n",
    "  <img alt=\"rgb CFP\" src=\"rgbCFP.png\" width=\"45%\">\n",
    "</p>\n",
    "Abbildung 1: Color Fundus Photography (CFP) Ablichtung (links). Modifizierte CFP; rote, grüne und blaue Kanäle separat (rechts).\n",
    "</br>\n",
    "In dieser Übung nutzen wir die CFP-Aufnahme aus Abbildung 1 (links), die ihr auch auf der entsprechenden <a href=\"https://en.wikipedia.org/wiki/Fundus_photography\">Wikipediaseite</a> findet. Ihr lernt in dieser Aufgabe, Bilder einzulesen, zu manipulieren und zu visualisieren.   \n",
    "</br>\n",
    "\n",
    "#### a) Ladet mit der imread-Funktion von scikit-image das Bild CFP.png in eine Variable und damit in euren Arbeitsspeicher. Gebt die Dimensionalität des Bildes aus. (4P)"
   ]
  },
  {
   "cell_type": "code",
   "execution_count": 73,
   "id": "ffa22df2-f2ee-4f03-9460-b011c78f5cbc",
   "metadata": {},
   "outputs": [],
   "source": [
    "# importiert die nötigen Module\n",
    "\n",
    "# Speichert das Bild in einer Variable\n",
    "\n",
    "# Gebt ihre Dimensionalität aus"
   ]
  },
  {
   "cell_type": "markdown",
   "id": "b09b1cf0-512b-456c-9116-5d62de3b11ee",
   "metadata": {},
   "source": [
    "#### b) scikit-image liest Bilder standardmäßig als 8-bit unsigned integer ein. Was passiert, wenn ihr die Werte in eurer Variable um +51 oder -51 verschiebt? Visualisiert das Ergebnis beider *Shifts*. Wie erklärt ihr die Resultate? (4P)"
   ]
  },
  {
   "cell_type": "code",
   "execution_count": 74,
   "id": "32862bec-66e0-4ff7-a296-5794af79c3e6",
   "metadata": {},
   "outputs": [],
   "source": [
    "# Ihr könnt die Variable aus der vorherigen Aufgabe erneut benutzen oder sie hier neu deklarieren\n",
    "\n",
    "# Speichert die Ergebnisse der shifts jeweils in einer neuen Variable\n",
    "\n",
    "# Visualisiert und erklärt die Ergebnisse in einem (oder mehreren) Plots"
   ]
  },
  {
   "cell_type": "markdown",
   "id": "27a7a267-c2c7-4428-a8ef-1def4ff85dfe",
   "metadata": {},
   "source": [
    "#### c) Bildverarbeitungsbibliotheken erwarten Eingaben häufig als Floats mit Wertebereichen zwischen 0 und 1. Ladet das Bild CFP.png und konvertiert es, sodass es im Wertebereich von \\[0,1\\] liegt. Verschiebt anschließend die Bildintensitäten um -0.2 und +0.2. Was sind die Maximalwerte der neuen Bilder? Visualisiert das Ergebnis genau so wie in der vorherigen Aufgabe. Gibt es einen Unterschied? (4P)"
   ]
  },
  {
   "cell_type": "code",
   "execution_count": 75,
   "id": "1c05bcaa-2f0a-4623-8060-42d8fde2580f",
   "metadata": {},
   "outputs": [],
   "source": [
    "# Lösung hier\n",
    "\n"
   ]
  },
  {
   "cell_type": "markdown",
   "id": "11cd76a0-096e-4387-ad06-561c0eeefaf4",
   "metadata": {},
   "source": [
    "#### d) Speichert das Bild inklusive der +0.2 Verschiebung in einer neuen Datei mit Hilfe der imsave-Funktion von scikit-image und ladet das Ergebnis erneut. Haben sich die Intensitätswerte verändert? Begründet eure Antwort. (2P)"
   ]
  },
  {
   "cell_type": "code",
   "execution_count": 76,
   "id": "b00aff5c-b03f-43ff-bfac-9d3eab6077d8",
   "metadata": {},
   "outputs": [],
   "source": [
    "# Lösung hier\n"
   ]
  },
  {
   "cell_type": "markdown",
   "id": "1af04b58-b698-4f96-9773-3224038a0416",
   "metadata": {},
   "source": [
    "#### e) CFP.png ist ein Farbbild und hat deshalb drei Kanäle (rot, grün und blau). Modifiziert das Bild so, dass das Resultat der imshow-Funktion ähnlich zu dem in Abbildung 1 (rechts) ist. (3P)"
   ]
  },
  {
   "cell_type": "code",
   "execution_count": 77,
   "id": "3fb1bea6-1d1c-464d-a9b8-df71ef441fad",
   "metadata": {},
   "outputs": [],
   "source": [
    "# Lösung hier\n",
    "\n"
   ]
  },
  {
   "cell_type": "markdown",
   "id": "f6e1086c-116a-4c11-8dae-1516b7e350ed",
   "metadata": {},
   "source": [
    "#### f) Speichert den Grün-Kanal als Graustufen-Bild einmal mit der imsave-Funktion von scikit-image und einmal mit der von matplotlib. Ladet beide Bilder und vergleicht sie. Wie unterscheiden sie sich? (3P)"
   ]
  },
  {
   "cell_type": "code",
   "execution_count": 78,
   "id": "25130c5b-6358-4c4f-b0bb-2dc87f306019",
   "metadata": {},
   "outputs": [],
   "source": [
    "# Lösung hier\n"
   ]
  }
 ],
 "metadata": {
  "kernelspec": {
   "display_name": "mba_env",
   "language": "python",
   "name": "python3"
  },
  "language_info": {
   "codemirror_mode": {
    "name": "ipython",
    "version": 3
   },
   "file_extension": ".py",
   "mimetype": "text/x-python",
   "name": "python",
   "nbconvert_exporter": "python",
   "pygments_lexer": "ipython3",
   "version": "3.12.6"
  }
 },
 "nbformat": 4,
 "nbformat_minor": 5
}

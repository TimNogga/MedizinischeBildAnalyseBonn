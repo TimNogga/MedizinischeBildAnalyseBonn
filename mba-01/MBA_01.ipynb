{
 "cells": [
  {
   "cell_type": "markdown",
   "id": "59a1a74d-abbc-4afc-8350-68ccc9c238b5",
   "metadata": {},
   "source": [
    "<center> <h5>Wintersemester 2024/25</h5> </center>\n",
    "<center> <h1>Medizinische Bildanalyse</h1> </center>\n",
    "<center> <h3>Aufgabenblatt 1</h3> </center>\n",
    "<center> <h5>4. Oktober 2024</h5> </center>\n",
    "<center> <h5>\n",
    "    Prof. Dr. Thomas Schultz, \n",
    "    <a href = \"mailto: jlen@uni-bonn.de\">Jonathan Lennartz</a>,\n",
    "    <a href = \"mailto: jgruen@uni-bonn.de\">Dr. Johannes Grün</a>\n",
    "</h5> </center>\n",
    "<center> <h5>Abgabefrist: <b>21.10.2024, 10:00 Uhr, via eCampus</b></h5> </center>\n",
    "</br>\n",
    "\n",
    "* Bei Fragen bezüglich der Aufgaben nutzt das Forum in eCampus\n",
    "  \n",
    "* Die Aufgaben können in Gruppen von **bis zu drei** Studierenden abgegeben werden (eine Abgabe pro Gruppe). Findet euch dazu auf eCampus in Teams zusammen.\n",
    "* Ladet die Abgaben in einem Zip-Archiv hoch. Es sollte das Notebook selbst, einen Export als HTML oder PDF und alle nötigen Datein enthalten, um die Ergebnisse zu reproduzieren."
   ]
  },
  {
   "cell_type": "markdown",
   "id": "55c6061f-e35c-40c6-9173-3e1e344f7b5b",
   "metadata": {},
   "source": [
    "### Aufgabe 1 (Faltungseigenschaften, 6 Punkte)\n",
    "\n",
    "Zeigt mit Hilfe der Definition für die diskrete 1D Faltungsoperation\n",
    "$$(f*g)(x)=\\sum_{u=-\\infty}^\\infty f(u)g(x-u)$$\n",
    "dass\n",
    "1. der Faltungsoperator kommutativ ist: $(f*g)(x)=(g*f)(x)$ (3P)  </li>\n",
    "2. der Faltungsoperator assoziativ ist: $((f*g)*h)(x)=(f*(g*h))(x)$ (3P)  </li>"
   ]
  },
  {
   "cell_type": "markdown",
   "id": "67317534-6dab-45dd-83b0-8d41a84965bc",
   "metadata": {},
   "source": [
    "#Lösung:"
   ]
  },
  {
   "cell_type": "markdown",
   "id": "9462eb71-fede-41da-927a-5b4abbaed688",
   "metadata": {},
   "source": [
    "### Aufgabe 2 (Faltungsbasierte Bildfilterung, 6 Punkte)\n",
    "\n",
    "1. Gegeben sei ein 15x15 Kern (k1), in welchem alle Diagonalelemente $\\frac{1}{15}$ sind und alle Nicht-Diagonalelemente null. Welchen Effekt hat dieser Filter? (1P)</li>\n",
    "2. Gegeben sei ein weiterer 15x15 Kern (k2), in welchem alle Elemente in der achten Reihe $\\frac{1}{15}$ sind und alle anderen null. Welchen Effekt hat dieser Filter? (1P)</li>\n",
    "3. Angenommen, wir wenden k1 und k2 nacheinander auf das selbe Bild an. Beschreibt kurz den Unterschied, der bei Vertauschung der Reihenfolge entsteht. (2P)</li>\n",
    "4. Gibt es einen Unterschied zwischen der Anwendung von k1 und k2 nacheinander und einer einmaligen Anwendung eines 15x15 Kerns mit $\\frac{1}{15}$ auf der Diagonalen und in der achten Reihe, der ansonsten nur Nullen aufweist? Wenn nicht, erklärt kurz warum. Wenn doch, wie müsste ein Kern aussehen, dessen Anwendung äquivalent zur Anwendung von k1 und k2 ist? (2P)"
   ]
  },
  {
   "cell_type": "markdown",
   "id": "7b28073a-e1af-44e7-918f-9c5a7fa05676",
   "metadata": {},
   "source": [
    "#Lösung:"
   ]
  },
  {
   "cell_type": "markdown",
   "id": "2bfd2253-83f0-4e35-ba25-8f3d5ae3de1e",
   "metadata": {},
   "source": [
    "### Aufgabe 3 (NumPy-Tricks, 18 Punkte)  \n",
    "In der Bildverarbeitung müssen Operationen häufig auf vielen Pixeln gleichzeitig durchgeführt werden. Mit den richtigen Tricks kann man solche Probleme mit NumPy häufig elegant in einer einzelnen Zeile lösen. Meistens läuft solcher Code sogar deutlich schneller als kompliziertere, z.B. als Schleifen \"handgeschriebene\" Lösungen. Diese Aufgabe möchte Euch diese Möglichkeiten näherbringen. Im Laufe des Semesters könnt Ihr sie dann immer wieder anwenden. Es ist möglich, jede Teilaufgabe mit einer Zeile Code zu lösen (79 Zeichen inklusive Leerzeichen, ausgenommen sind imports und Kommentare)."
   ]
  },
  {
   "cell_type": "markdown",
   "id": "f8257fa8-43e1-4777-9565-00e6f952a0c9",
   "metadata": {},
   "source": [
    "#### a) Erzeugt mit ```np.linspace``` ein Array mit den Zahlen von 0 bis 100 (einschließlich) in 10er-Schritten. (1P)"
   ]
  },
  {
   "cell_type": "code",
   "id": "166a67b6-5ade-4edf-b3c8-a41927ba0ea2",
   "metadata": {
    "ExecuteTime": {
     "end_time": "2024-10-10T17:58:43.956333Z",
     "start_time": "2024-10-10T17:58:43.953179Z"
    }
   },
   "source": [
    "import numpy as np\n",
    "\n",
    "#Lösung:\n",
    "print(np.linspace(0, 100, 11))"
   ],
   "outputs": [
    {
     "name": "stdout",
     "output_type": "stream",
     "text": [
      "[  0.  10.  20.  30.  40.  50.  60.  70.  80.  90. 100.]\n"
     ]
    }
   ],
   "execution_count": 5
  },
  {
   "cell_type": "markdown",
   "id": "99080bf1-bcd0-44ad-b384-0a311e0139aa",
   "metadata": {},
   "source": [
    "#### b) Das gleich Array lässt sich auch mit der Funktion ```np.arange``` erzeugen, wie? Was ist der Unterschied zwischen beiden Funktionen? (2P)"
   ]
  },
  {
   "metadata": {},
   "cell_type": "markdown",
   "source": [
    "# Lösung:\n",
    "Mit linspace kann man auf die Schrittgröße schließen, man gibt also die anzahl an Values und min und max und die Schritte folgen, bei np.arange gibt man die Schrittgröße an und es wird auf die Schritte geschlossen, also kann man mit np.arange(0,101,10) das gleiche erreichen. \n",
    "\n"
   ],
   "id": "e1cc8661566f2ae0"
  },
  {
   "cell_type": "markdown",
   "id": "8d7b7b93",
   "metadata": {},
   "source": [
    "#### c) Auch mit der `range` Funktion lässt sich ein solches Array erstellen, wie? Wieso oder wann ist es vorteilhaft die numpy Funktionen zu benutzen? (1P)"
   ]
  },
  {
   "metadata": {},
   "cell_type": "markdown",
   "source": [
    "# Lösung:\n",
    "Numpy arrays sind effizienter und schneller. Man kann dann auch gut weiterrechnen, da man die Numpy Funktionen benutzen kann. Mir fällt kein Grund ein wieso eine Liste sinvoll sein sollte, wenn man es sich aussuchen kann von den Datentyp. "
   ],
   "id": "d306e0b1b9bc5af4"
  },
  {
   "cell_type": "markdown",
   "id": "fe9146fa",
   "metadata": {},
   "source": [
    "#### d) Erzeugt mit ```np.linspace``` eine 11x3-Matrix, in deren drei Spalten Zahlen von 0 bis 10 (einschließlich), 0 bis 100, bzw. 0 bis 1000 stehen. Wählt die Schrittgröße so, dass die Sprünge innerhalb jeder Spalte gleichmäßig sind. (2P)"
   ]
  },
  {
   "cell_type": "code",
   "id": "ed50d8df-f71b-402b-8a84-d5e852f8bcfe",
   "metadata": {
    "ExecuteTime": {
     "end_time": "2024-10-10T18:36:29.718536Z",
     "start_time": "2024-10-10T18:36:29.713942Z"
    }
   },
   "source": [
    "# Lösung:\n",
    "np.linspace([0, 0, 0], [10, 100, 1000], 11)\n"
   ],
   "outputs": [
    {
     "data": {
      "text/plain": [
       "array([[   0.,    0.,    0.],\n",
       "       [   1.,   10.,  100.],\n",
       "       [   2.,   20.,  200.],\n",
       "       [   3.,   30.,  300.],\n",
       "       [   4.,   40.,  400.],\n",
       "       [   5.,   50.,  500.],\n",
       "       [   6.,   60.,  600.],\n",
       "       [   7.,   70.,  700.],\n",
       "       [   8.,   80.,  800.],\n",
       "       [   9.,   90.,  900.],\n",
       "       [  10.,  100., 1000.]])"
      ]
     },
     "execution_count": 23,
     "metadata": {},
     "output_type": "execute_result"
    }
   ],
   "execution_count": 23
  },
  {
   "cell_type": "markdown",
   "id": "3e797e17",
   "metadata": {},
   "source": [
    "#### e) Erzeugt mit ```np.random.uniform``` ein 3D-Array der Größe 10x20x30, gefüllt mit gleichverteilten Zufallszahlen zwischen 0 und 10. (1P)"
   ]
  },
  {
   "cell_type": "code",
   "id": "ccd255ea-a05f-4803-9bba-7fc0dd7fac39",
   "metadata": {
    "ExecuteTime": {
     "end_time": "2024-10-10T18:45:40.456073Z",
     "start_time": "2024-10-10T18:45:40.440994Z"
    }
   },
   "source": [
    "# Lösung:\n",
    "np.random.uniform(0,10,(10,20,30))"
   ],
   "outputs": [
    {
     "data": {
      "text/plain": [
       "array([[[2.37351906, 0.71677463, 9.86603334, ..., 6.75783331,\n",
       "         0.44267146, 9.95845199],\n",
       "        [6.75269108, 7.9115688 , 6.41072364, ..., 7.97404925,\n",
       "         9.99885386, 4.64712699],\n",
       "        [2.62583087, 0.25711531, 5.66346603, ..., 6.88902289,\n",
       "         6.68108399, 6.99726369],\n",
       "        ...,\n",
       "        [4.79212688, 6.32209129, 5.60331193, ..., 1.46837554,\n",
       "         5.97850341, 3.06637081],\n",
       "        [9.65524005, 3.84790105, 6.25446946, ..., 2.06568643,\n",
       "         6.41711782, 8.05253832],\n",
       "        [8.98329232, 0.24355305, 9.38068658, ..., 1.44680792,\n",
       "         2.03238625, 1.94035196]],\n",
       "\n",
       "       [[4.42485989, 3.86645166, 0.66165157, ..., 2.45976707,\n",
       "         7.40780857, 4.59596675],\n",
       "        [9.88727796, 7.35840288, 8.72664553, ..., 7.35024911,\n",
       "         6.61171843, 8.87176416],\n",
       "        [1.2287923 , 9.9591835 , 6.50911099, ..., 8.08549049,\n",
       "         9.5873694 , 1.61754626],\n",
       "        ...,\n",
       "        [4.85030396, 0.83822652, 2.13488444, ..., 2.60845025,\n",
       "         0.6296747 , 8.69248398],\n",
       "        [5.25396165, 1.04690228, 4.15835209, ..., 2.20300418,\n",
       "         9.55183543, 9.73904514],\n",
       "        [6.00711289, 1.69167211, 3.64982352, ..., 3.97786463,\n",
       "         3.47242919, 1.77659095]],\n",
       "\n",
       "       [[9.1209888 , 8.28323287, 4.45170267, ..., 3.04973476,\n",
       "         7.35946945, 5.10611686],\n",
       "        [3.17384334, 3.20884114, 9.28690688, ..., 7.64708106,\n",
       "         5.6058148 , 8.78097041],\n",
       "        [5.18365278, 7.7293008 , 1.23660027, ..., 8.2636925 ,\n",
       "         3.6476406 , 8.9963665 ],\n",
       "        ...,\n",
       "        [7.49070288, 1.84265146, 4.52935039, ..., 7.8104576 ,\n",
       "         3.78248225, 8.30166553],\n",
       "        [7.8027549 , 6.51464728, 5.68859531, ..., 7.25312286,\n",
       "         6.72829338, 6.71084713],\n",
       "        [2.90966036, 0.75171455, 5.58328357, ..., 6.57900341,\n",
       "         3.70362443, 9.48987935]],\n",
       "\n",
       "       ...,\n",
       "\n",
       "       [[7.32030859, 5.72393892, 5.5945468 , ..., 2.94748156,\n",
       "         2.79954707, 9.80107442],\n",
       "        [6.10558219, 9.18984441, 9.99598958, ..., 5.24518176,\n",
       "         4.06875906, 7.23598163],\n",
       "        [6.33460006, 6.88416645, 0.70038017, ..., 9.84107675,\n",
       "         2.9580707 , 4.35102058],\n",
       "        ...,\n",
       "        [8.45670294, 9.76842208, 5.21973528, ..., 0.89859701,\n",
       "         8.23516708, 5.92662382],\n",
       "        [7.85750874, 5.92189415, 9.82786795, ..., 0.43362952,\n",
       "         3.57593007, 8.72205687],\n",
       "        [9.81543025, 7.20587195, 5.86362444, ..., 2.35439837,\n",
       "         7.65544104, 5.75759679]],\n",
       "\n",
       "       [[2.81523379, 9.86444554, 6.22625652, ..., 5.05536314,\n",
       "         2.77283535, 9.30664804],\n",
       "        [6.90600638, 9.84257184, 5.19175241, ..., 7.13935451,\n",
       "         0.83668257, 6.23793491],\n",
       "        [1.08611868, 6.02021829, 5.97831865, ..., 8.93662281,\n",
       "         5.50717382, 4.44643852],\n",
       "        ...,\n",
       "        [9.29947518, 5.67223259, 4.20973974, ..., 5.73633096,\n",
       "         3.46234296, 7.38297878],\n",
       "        [7.21414706, 5.94029142, 1.2431653 , ..., 4.20338586,\n",
       "         1.95254774, 3.12281115],\n",
       "        [2.08434568, 0.21674899, 9.14290194, ..., 3.57865301,\n",
       "         4.6576356 , 2.80727452]],\n",
       "\n",
       "       [[1.63610335, 0.66226873, 2.7127756 , ..., 8.60999184,\n",
       "         5.21597535, 5.39850656],\n",
       "        [9.40395073, 9.4736627 , 1.88130861, ..., 9.79346657,\n",
       "         9.06992397, 6.86611725],\n",
       "        [0.11961999, 7.43300196, 6.99758932, ..., 2.29182656,\n",
       "         5.12390021, 2.09680727],\n",
       "        ...,\n",
       "        [6.73091269, 3.57100657, 0.50133461, ..., 7.06142972,\n",
       "         4.7160732 , 4.23811516],\n",
       "        [7.38988963, 2.76912304, 8.44438525, ..., 0.45114067,\n",
       "         0.18089869, 1.12448842],\n",
       "        [4.81453786, 9.75877798, 7.86165612, ..., 6.25477467,\n",
       "         0.50432854, 4.48506992]]])"
      ]
     },
     "execution_count": 26,
     "metadata": {},
     "output_type": "execute_result"
    }
   ],
   "execution_count": 26
  },
  {
   "cell_type": "markdown",
   "id": "28977124",
   "metadata": {},
   "source": [
    "#### f) Erzeugt ein Array gefüllt mit Einsen, das dieselbe Form hat wie das Array aus der vorherigen Aufgabe. \n",
    "_Hinweis:_ Dabei ist es nicht nötig, die Form explizit abzufragen oder als Argument zu verwenden. (2P)"
   ]
  },
  {
   "cell_type": "code",
   "id": "eefced10",
   "metadata": {
    "ExecuteTime": {
     "end_time": "2024-10-10T18:45:50.093190Z",
     "start_time": "2024-10-10T18:45:50.087682Z"
    }
   },
   "source": [
    "# Lösung:\n",
    "np.ones((10,20,30))"
   ],
   "outputs": [
    {
     "data": {
      "text/plain": [
       "array([[[1., 1., 1., ..., 1., 1., 1.],\n",
       "        [1., 1., 1., ..., 1., 1., 1.],\n",
       "        [1., 1., 1., ..., 1., 1., 1.],\n",
       "        ...,\n",
       "        [1., 1., 1., ..., 1., 1., 1.],\n",
       "        [1., 1., 1., ..., 1., 1., 1.],\n",
       "        [1., 1., 1., ..., 1., 1., 1.]],\n",
       "\n",
       "       [[1., 1., 1., ..., 1., 1., 1.],\n",
       "        [1., 1., 1., ..., 1., 1., 1.],\n",
       "        [1., 1., 1., ..., 1., 1., 1.],\n",
       "        ...,\n",
       "        [1., 1., 1., ..., 1., 1., 1.],\n",
       "        [1., 1., 1., ..., 1., 1., 1.],\n",
       "        [1., 1., 1., ..., 1., 1., 1.]],\n",
       "\n",
       "       [[1., 1., 1., ..., 1., 1., 1.],\n",
       "        [1., 1., 1., ..., 1., 1., 1.],\n",
       "        [1., 1., 1., ..., 1., 1., 1.],\n",
       "        ...,\n",
       "        [1., 1., 1., ..., 1., 1., 1.],\n",
       "        [1., 1., 1., ..., 1., 1., 1.],\n",
       "        [1., 1., 1., ..., 1., 1., 1.]],\n",
       "\n",
       "       ...,\n",
       "\n",
       "       [[1., 1., 1., ..., 1., 1., 1.],\n",
       "        [1., 1., 1., ..., 1., 1., 1.],\n",
       "        [1., 1., 1., ..., 1., 1., 1.],\n",
       "        ...,\n",
       "        [1., 1., 1., ..., 1., 1., 1.],\n",
       "        [1., 1., 1., ..., 1., 1., 1.],\n",
       "        [1., 1., 1., ..., 1., 1., 1.]],\n",
       "\n",
       "       [[1., 1., 1., ..., 1., 1., 1.],\n",
       "        [1., 1., 1., ..., 1., 1., 1.],\n",
       "        [1., 1., 1., ..., 1., 1., 1.],\n",
       "        ...,\n",
       "        [1., 1., 1., ..., 1., 1., 1.],\n",
       "        [1., 1., 1., ..., 1., 1., 1.],\n",
       "        [1., 1., 1., ..., 1., 1., 1.]],\n",
       "\n",
       "       [[1., 1., 1., ..., 1., 1., 1.],\n",
       "        [1., 1., 1., ..., 1., 1., 1.],\n",
       "        [1., 1., 1., ..., 1., 1., 1.],\n",
       "        ...,\n",
       "        [1., 1., 1., ..., 1., 1., 1.],\n",
       "        [1., 1., 1., ..., 1., 1., 1.],\n",
       "        [1., 1., 1., ..., 1., 1., 1.]]])"
      ]
     },
     "execution_count": 27,
     "metadata": {},
     "output_type": "execute_result"
    }
   ],
   "execution_count": 27
  },
  {
   "cell_type": "markdown",
   "id": "81972a2f",
   "metadata": {},
   "source": [
    "#### g) Erzeugt den Kern eines Mittelwertfilters der Größe 3x3. (1P)"
   ]
  },
  {
   "cell_type": "code",
   "id": "fda396b1",
   "metadata": {
    "ExecuteTime": {
     "end_time": "2024-10-10T19:11:28.051552Z",
     "start_time": "2024-10-10T19:11:28.047730Z"
    }
   },
   "source": [
    "# Lösung:\n",
    "c = np.ones((3,3))/9"
   ],
   "outputs": [],
   "execution_count": 41
  },
  {
   "cell_type": "markdown",
   "id": "53980cbe",
   "metadata": {},
   "source": [
    "#### h) Die Variable ```img``` enthält 50 \"Bilder\" der Größe 100x100. Faltet mit einem einzigen Aufruf alle 50 Bilder mit dem Mittelwertfilter aus der vorherigen Aufgabe. (2P)\n",
    "_Tipp: Man kann Arrays zusätzliche Dimensionen geben._ "
   ]
  },
  {
   "cell_type": "code",
   "id": "aeec4030",
   "metadata": {
    "ExecuteTime": {
     "end_time": "2024-10-10T19:49:31.901476Z",
     "start_time": "2024-10-10T19:49:31.890968Z"
    }
   },
   "source": [
    "np.random.seed(42)\n",
    "img = np.random.uniform(0, 1, size=(100, 100, 50))\n",
    "#TODO wtf do they want from me D: \n"
   ],
   "outputs": [],
   "execution_count": 60
  },
  {
   "cell_type": "markdown",
   "id": "5ee22eb6",
   "metadata": {},
   "source": [
    "#### i) Berechnet ein Array mit der gleichen Größe wie ```img``` und befüllt es dort mit Einsen, wo ```img``` größer ist als 0.99. Alle anderen Einträge setzt Ihr auf Null. (2P)"
   ]
  },
  {
   "metadata": {
    "ExecuteTime": {
     "end_time": "2024-10-10T19:49:34.238237Z",
     "start_time": "2024-10-10T19:49:34.232665Z"
    }
   },
   "cell_type": "code",
   "source": [
    "# Lösung:\n",
    "\n",
    "np.where(img > 0.99, 1, 0)\n"
   ],
   "id": "544ae93b3547ebdd",
   "outputs": [
    {
     "data": {
      "text/plain": [
       "array([[[0, 0, 0, ..., 0, 0, 0],\n",
       "        [0, 0, 0, ..., 0, 0, 0],\n",
       "        [0, 0, 0, ..., 0, 0, 0],\n",
       "        ...,\n",
       "        [0, 0, 0, ..., 0, 0, 0],\n",
       "        [0, 0, 0, ..., 0, 0, 0],\n",
       "        [0, 0, 0, ..., 0, 0, 0]],\n",
       "\n",
       "       [[0, 0, 0, ..., 0, 0, 0],\n",
       "        [0, 0, 0, ..., 0, 0, 0],\n",
       "        [0, 0, 0, ..., 0, 0, 0],\n",
       "        ...,\n",
       "        [0, 0, 0, ..., 0, 0, 0],\n",
       "        [0, 0, 0, ..., 0, 0, 0],\n",
       "        [0, 0, 0, ..., 0, 0, 0]],\n",
       "\n",
       "       [[0, 0, 0, ..., 0, 0, 0],\n",
       "        [0, 0, 0, ..., 0, 0, 0],\n",
       "        [0, 0, 0, ..., 0, 0, 0],\n",
       "        ...,\n",
       "        [0, 0, 0, ..., 0, 0, 0],\n",
       "        [0, 0, 0, ..., 0, 0, 0],\n",
       "        [0, 0, 0, ..., 0, 0, 0]],\n",
       "\n",
       "       ...,\n",
       "\n",
       "       [[0, 0, 0, ..., 0, 0, 0],\n",
       "        [0, 0, 0, ..., 0, 0, 0],\n",
       "        [0, 0, 0, ..., 0, 0, 0],\n",
       "        ...,\n",
       "        [0, 0, 0, ..., 0, 0, 0],\n",
       "        [0, 0, 0, ..., 0, 0, 0],\n",
       "        [0, 0, 0, ..., 0, 0, 0]],\n",
       "\n",
       "       [[0, 0, 0, ..., 0, 1, 0],\n",
       "        [0, 0, 0, ..., 0, 0, 0],\n",
       "        [0, 0, 0, ..., 0, 0, 0],\n",
       "        ...,\n",
       "        [0, 0, 0, ..., 0, 0, 0],\n",
       "        [0, 0, 0, ..., 0, 0, 0],\n",
       "        [0, 0, 0, ..., 0, 0, 0]],\n",
       "\n",
       "       [[0, 0, 0, ..., 0, 0, 0],\n",
       "        [0, 0, 0, ..., 0, 0, 0],\n",
       "        [0, 0, 0, ..., 0, 0, 0],\n",
       "        ...,\n",
       "        [0, 0, 0, ..., 0, 0, 0],\n",
       "        [0, 0, 0, ..., 0, 0, 0],\n",
       "        [0, 0, 0, ..., 0, 0, 0]]])"
      ]
     },
     "execution_count": 61,
     "metadata": {},
     "output_type": "execute_result"
    }
   ],
   "execution_count": 61
  },
  {
   "cell_type": "markdown",
   "id": "7f68992b",
   "metadata": {},
   "source": [
    "#### j) Summiert für jedes der 50 Bilder in ```img``` die Werte aller Pixel die größer sind als 0.99. (2P)"
   ]
  },
  {
   "cell_type": "code",
   "id": "35f0e921",
   "metadata": {
    "ExecuteTime": {
     "end_time": "2024-10-10T20:00:42.960548Z",
     "start_time": "2024-10-10T20:00:42.955964Z"
    }
   },
   "source": [
    "# Lösung:\n",
    "(np.sum(np.where(img > 0.99,img,0),(0,1)))"
   ],
   "outputs": [
    {
     "data": {
      "text/plain": [
       "array([ 84.58028514, 106.48263679, 104.54003751, 102.45874858,\n",
       "       108.49158158,  99.44127339,  87.56860121, 108.50598058,\n",
       "       103.47436752, 116.40929188,  82.57776222,  91.55120384,\n",
       "       110.44589585,  85.55127726, 124.36125751, 114.48547681,\n",
       "        88.58306643, 103.46270541,  93.53923645,  92.54461348,\n",
       "        92.52512466,  84.57490576,  81.62861847,  95.51384184,\n",
       "        91.53677396, 103.50654845, 101.49724291, 100.47294247,\n",
       "        82.61124719, 107.50502635,  99.50363971,  96.45440835,\n",
       "        96.49099822, 109.41758691, 101.48638289,  94.55059325,\n",
       "        96.54088396,  81.62538743,  90.45902541,  87.56469344,\n",
       "        90.56297284, 117.37216942,  83.59100698, 109.4432213 ,\n",
       "        87.56056252, 100.48326995,  97.53364658, 119.36541009,\n",
       "       100.46744102,  92.57788009])"
      ]
     },
     "execution_count": 67,
     "metadata": {},
     "output_type": "execute_result"
    }
   ],
   "execution_count": 67
  },
  {
   "cell_type": "markdown",
   "id": "ba9cb19f",
   "metadata": {},
   "source": [
    "#### k) Bestimmt die Anzahl der Pixel in ```img```, die in mindestens einem der Bilder größer als 0.99 sind. (2P)"
   ]
  },
  {
   "cell_type": "code",
   "id": "03a3974f",
   "metadata": {
    "ExecuteTime": {
     "end_time": "2024-10-10T20:07:12.525029Z",
     "start_time": "2024-10-10T20:07:12.522096Z"
    }
   },
   "source": [
    "# Lösung\\\n",
    "np.sum(np.where(np.max(img, (2)) > 0.99, 1, 0))"
   ],
   "outputs": [
    {
     "data": {
      "text/plain": [
       "3916"
      ]
     },
     "execution_count": 71,
     "metadata": {},
     "output_type": "execute_result"
    }
   ],
   "execution_count": 71
  },
  {
   "cell_type": "markdown",
   "id": "8b6951ad-9177-4e1a-adc1-2f76740f8a6e",
   "metadata": {},
   "source": [
    "### Aufgabe 4 (Arbeiten mit Bildern, 20 Punkte)\n",
    "\n",
    "Im ZIP-Archiv des Übungsblattes befinden sich unter anderem die Bilder CFP.png und rgbCFP.png. Sie erscheinen im Fließtext unter Abbildung eins, sofern ihr sie in den gleichen Ordner wie das Notebook selbst extrahiert habt. \n",
    "\n",
    "Color Fundus Photography (CFP) ist ein Bildgebungsverfahren, welches den Fundus, also den hinteren Teil des Auges, sichtbar macht. Dabei wird die Retina mit weißem Licht bestrahlt, sodass sie im vollen Farbspektrum examiniert werden kann.\n",
    "<p align=\"center\">\n",
    "  <img alt=\"CFP\" src=\"CFP.png\" width=\"45%\">\n",
    "&nbsp; &nbsp; &nbsp; &nbsp;\n",
    "  <img alt=\"rgb CFP\" src=\"rgbCFP.png\" width=\"45%\">\n",
    "</p>\n",
    "Abbildung 1: Color Fundus Photography (CFP) Ablichtung (links). Modifizierte CFP; rote, grüne und blaue Kanäle separat (rechts).\n",
    "</br>\n",
    "In dieser Übung nutzen wir die CFP-Aufnahme aus Abbildung 1 (links), die ihr auch auf der entsprechenden <a href=\"https://en.wikipedia.org/wiki/Fundus_photography\">Wikipediaseite</a> findet. Ihr lernt in dieser Aufgabe, Bilder einzulesen, zu manipulieren und zu visualisieren.   \n",
    "</br>\n",
    "\n",
    "#### a) Ladet mit der imread-Funktion von scikit-image das Bild CFP.png in eine Variable und damit in euren Arbeitsspeicher. Gebt die Dimensionalität des Bildes aus. (4P)"
   ]
  },
  {
   "cell_type": "code",
   "id": "ffa22df2-f2ee-4f03-9460-b011c78f5cbc",
   "metadata": {
    "ExecuteTime": {
     "end_time": "2024-10-10T20:13:42.444839Z",
     "start_time": "2024-10-10T20:13:42.418422Z"
    }
   },
   "source": [
    "# importiert die nötigen Module\n",
    "import skimage as ski\n",
    "import os\n",
    "# Speichert das Bild in einer Variable\n",
    "filename = os.path.join('CFP.png')\n",
    "image = ski.io.imread(filename)\n",
    "# Gebt ihre Dimensionalität aus\n",
    "image.shape"
   ],
   "outputs": [
    {
     "data": {
      "text/plain": [
       "(797, 1200, 3)"
      ]
     },
     "execution_count": 78,
     "metadata": {},
     "output_type": "execute_result"
    }
   ],
   "execution_count": 78
  },
  {
   "cell_type": "markdown",
   "id": "b09b1cf0-512b-456c-9116-5d62de3b11ee",
   "metadata": {},
   "source": [
    "#### b) scikit-image liest Bilder standardmäßig als 8-bit unsigned integer ein. Was passiert, wenn ihr die Werte in eurer Variable um +51 oder -51 verschiebt? Visualisiert das Ergebnis beider *Shifts*. Wie erklärt ihr die Resultate? (4P)"
   ]
  },
  {
   "cell_type": "code",
   "execution_count": 74,
   "id": "32862bec-66e0-4ff7-a296-5794af79c3e6",
   "metadata": {},
   "outputs": [],
   "source": [
    "# Ihr könnt die Variable aus der vorherigen Aufgabe erneut benutzen oder sie hier neu deklarieren\n",
    "\n",
    "# Speichert die Ergebnisse der shifts jeweils in einer neuen Variable\n",
    "\n",
    "# Visualisiert und erklärt die Ergebnisse in einem (oder mehreren) Plots"
   ]
  },
  {
   "cell_type": "markdown",
   "id": "27a7a267-c2c7-4428-a8ef-1def4ff85dfe",
   "metadata": {},
   "source": [
    "#### c) Bildverarbeitungsbibliotheken erwarten Eingaben häufig als Floats mit Wertebereichen zwischen 0 und 1. Ladet das Bild CFP.png und konvertiert es, sodass es im Wertebereich von \\[0,1\\] liegt. Verschiebt anschließend die Bildintensitäten um -0.2 und +0.2. Was sind die Maximalwerte der neuen Bilder? Visualisiert das Ergebnis genau so wie in der vorherigen Aufgabe. Gibt es einen Unterschied? (4P)"
   ]
  },
  {
   "cell_type": "code",
   "execution_count": 75,
   "id": "1c05bcaa-2f0a-4623-8060-42d8fde2580f",
   "metadata": {},
   "outputs": [],
   "source": [
    "# Lösung hier\n",
    "\n"
   ]
  },
  {
   "cell_type": "markdown",
   "id": "11cd76a0-096e-4387-ad06-561c0eeefaf4",
   "metadata": {},
   "source": [
    "#### d) Speichert das Bild inklusive der +0.2 Verschiebung in einer neuen Datei mit Hilfe der imsave-Funktion von scikit-image und ladet das Ergebnis erneut. Haben sich die Intensitätswerte verändert? Begründet eure Antwort. (2P)"
   ]
  },
  {
   "cell_type": "code",
   "execution_count": 76,
   "id": "b00aff5c-b03f-43ff-bfac-9d3eab6077d8",
   "metadata": {},
   "outputs": [],
   "source": [
    "# Lösung hier\n"
   ]
  },
  {
   "cell_type": "markdown",
   "id": "1af04b58-b698-4f96-9773-3224038a0416",
   "metadata": {},
   "source": [
    "#### e) CFP.png ist ein Farbbild und hat deshalb drei Kanäle (rot, grün und blau). Modifiziert das Bild so, dass das Resultat der imshow-Funktion ähnlich zu dem in Abbildung 1 (rechts) ist. (3P)"
   ]
  },
  {
   "cell_type": "code",
   "execution_count": 77,
   "id": "3fb1bea6-1d1c-464d-a9b8-df71ef441fad",
   "metadata": {},
   "outputs": [],
   "source": [
    "# Lösung hier\n",
    "\n"
   ]
  },
  {
   "cell_type": "markdown",
   "id": "f6e1086c-116a-4c11-8dae-1516b7e350ed",
   "metadata": {},
   "source": [
    "#### f) Speichert den Grün-Kanal als Graustufen-Bild einmal mit der imsave-Funktion von scikit-image und einmal mit der von matplotlib. Ladet beide Bilder und vergleicht sie. Wie unterscheiden sie sich? (3P)"
   ]
  },
  {
   "cell_type": "code",
   "execution_count": 78,
   "id": "25130c5b-6358-4c4f-b0bb-2dc87f306019",
   "metadata": {},
   "outputs": [],
   "source": [
    "# Lösung hier\n"
   ]
  }
 ],
 "metadata": {
  "kernelspec": {
   "display_name": "mba_env",
   "language": "python",
   "name": "python3"
  },
  "language_info": {
   "codemirror_mode": {
    "name": "ipython",
    "version": 3
   },
   "file_extension": ".py",
   "mimetype": "text/x-python",
   "name": "python",
   "nbconvert_exporter": "python",
   "pygments_lexer": "ipython3",
   "version": "3.12.6"
  }
 },
 "nbformat": 4,
 "nbformat_minor": 5
}

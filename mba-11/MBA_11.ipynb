{
 "cells": [
  {
   "cell_type": "markdown",
   "metadata": {},
   "source": [
    "<center> <h5>Wintersemester 2024/25</h5> </center>\n",
    "<center> <h1>Medizinische Bildanalyse</h1> </center>\n",
    "<center> <h3>Aufgabenblatt 11</h3> </center>\n",
    "<center> <h5>13. Januar 2025</h5> </center>\n",
    "<center> <h5>\n",
    "    Prof. Dr. Thomas Schultz, \n",
    "    <a href = \"mailto: jlen@uni-bonn.de\">Jonathan Lennartz</a>\n",
    "</h5> </center>\n",
    "<center> <h5>Abgabefrist: <b>20.01.2025, 10:00 Uhr, via eCampus</b></h5> </center>\n",
    "</br>\n"
   ]
  },
  {
   "cell_type": "markdown",
   "metadata": {},
   "source": [
    "### Aufgabe 1 (Bildregistrierung, 25 Punkte)\n",
    "&nbsp;\n",
    "<table><tr>\n",
    "<td> <img src=\"axial.png\" alt=\"\" style=\"width: 100%;\"/> </td>\n",
    "<td> <img src=\"axial_transformed.png\" alt=\"Ausgerichtete Formen\" style=\"width: 100%;\"/> </td>\n",
    "</tr></table>\n",
    "<center>Abbildung: originales und rotiertes Bild.</center>\n",
    "\n",
    "Die Abbildung zeigt eine 2D-Schicht von einem Hirn-MRT-Scan (links) und eine verschobene, rotierte Kopie (rechts). Wir stellen euch beide Bilder zur Verfügung mit dem Ziel, eine vollständige Registrierung zu implementieren.  \n",
    "a) Schreibt eine Funktion, die ein Bild beliebig rotieren und verschieben kann. Übergebt dabei die nötigen Parameter als Funktionsargumente. (5P)  \n",
    "_Tipp:_ Nutzt gern einschlägige Funktionen aus `scipy.ndimage`."
   ]
  },
  {
   "cell_type": "code",
   "execution_count": 1,
   "metadata": {},
   "outputs": [],
   "source": [
    "# Lösung \n"
   ]
  },
  {
   "cell_type": "markdown",
   "metadata": {},
   "source": [
    "&nbsp;  \n",
    "b) Implementiert eine Funktion zur Evaluierung der L2-Kostenfunktion für ein gegebenes Bildpaar. Testet eure Funktion, indem ihr die Kosten zwischen dem Bild ```axial.png``` und zunehmenden Verschiebungen und Drehungen als Kurvendiagramm visualisiert. (5P)"
   ]
  },
  {
   "cell_type": "code",
   "execution_count": null,
   "metadata": {},
   "outputs": [],
   "source": [
    "# Lösung \n"
   ]
  },
  {
   "cell_type": "markdown",
   "metadata": {},
   "source": [
    "&nbsp;  \n",
    "c) Implementiert eine Optimierungsroutine auf Basis der Suche mit dem goldenen Schnitt und nutzt sie dazu, die beiden Bilder```axial.png``` und ```axial_transformed.png``` richtig auszurichten. Nutzt dazu die Funktionen aus Aufgabenteil a) und b). Ihr könnt euch an folgenden Schritten orientieren:\n",
    "* Schreibt eine Funktion, die aus einem Intervall, einem inneren Punkt und einer Kostenfunktion mittels des goldenen-Schnitt-Verfahrens ein kleineres Intervall berechnet, das mindestens ein lokales Minimum enthält. Die Bewertungsfunktion sollte nur innerhalb des Intervalls ausgewertet werden. (6P)  \n",
    "_Tipp: Die Lambda-Notation in Python ist eine elegante Möglichkeit, bestimmte Parameter einer Funktion auf feste Werte zu setzen, so dass nur der für die Registrierung aktuell relevante verbleibt._\n",
    "* Schreibt eine Funktion, die für ein initiales Suchintervall zunächst einen gültigen inneren Punkt sucht um sicherzustellen, dass mindestens ein Minimum enthalten ist. Ist dies gelungen, sollte das Intervall mit der Funktion aus dem vorherigen Schritt so lange verkleinert werden, bis seine Breite einen bestimmten Wert (z.B. 0.5) unterschreitet. (6P)  \n",
    "_Hinweis: Dieses Vorgehen zum Finden eines initialen Intervalls und inneren Punkts unterscheidet sich von der Strategie aus der Vorlesung, ist in unserem Fall aber bequemer._\n",
    "* Wendet diese Funktion nun abwechselnd auf Verschiebungen und Rotationen an, bis das Verfahren konvergiert. Danach sollten beide Bilder visuell kaum zu unterscheiden sein. (3P)"
   ]
  },
  {
   "cell_type": "code",
   "execution_count": null,
   "metadata": {},
   "outputs": [],
   "source": [
    "# Lösung\n"
   ]
  },
  {
   "cell_type": "markdown",
   "metadata": {},
   "source": [
    "### Aufgabe 2 (Affine Transformation aus Korrespondenzen, 15 Punkte)\n",
    "In dieser Aufgabe betrachten wir die Berechnung einer affinen Transformation aus gegebenen Korrespondenzen. Konkret wählt ihr einige Landmarken in einem Bild aus, die in einem zweiten Bild leicht wiederzufinden sind. Anschließend schätzt ihr eine affine Transformation, die eben diese Punkte so nah wie möglich zueinander bringt. Da die Transformation auf das gesamte Bild angewandt wird, solltet ihr eine vollständige Registrierung erreichen."
   ]
  },
  {
   "cell_type": "markdown",
   "metadata": {},
   "source": [
    "&nbsp;  \n",
    "a) Wie viele korrespondierende Punkte benötigt man mindestens, um eine eindeutige affine Transformation zu bestimmten, die 2D-Bilder registriert? Müssen diese Punkte bestimmte Anforderungen erfüllen? (4P)"
   ]
  },
  {
   "cell_type": "markdown",
   "metadata": {},
   "source": [
    "_Lösung:_\n"
   ]
  },
  {
   "cell_type": "markdown",
   "metadata": {},
   "source": [
    "b) Findet eine geeignete Anzahl korrespondierender Punkte in ```T1.png``` und ```b0_trans.png``` und bestimmt die resultierende Transformationsmatrix mittels eines linearen Gleichungssystems. Verifiziert eure Lösung, indem ihr eure Transformation auf ```b0_trans.png``` anwendet und das Ergebnis visualisiert. (10P)\n",
    "&nbsp;  "
   ]
  },
  {
   "cell_type": "code",
   "execution_count": null,
   "metadata": {},
   "outputs": [],
   "source": [
    "# Lösung\n"
   ]
  },
  {
   "cell_type": "markdown",
   "metadata": {},
   "source": [
    "&nbsp;  \n",
    "c) In der Praxis nutzt man häufig mehr als die Mindestanzahl an nötigen Korrespondenzpunkten. Wie würdet ihr in diesem Fall eine optimale Transformationsmatrix berechnen? (1P)"
   ]
  },
  {
   "cell_type": "markdown",
   "metadata": {},
   "source": [
    "_Lösung:_  \n"
   ]
  },
  {
   "cell_type": "markdown",
   "metadata": {},
   "source": [
    "### Aufgabe 3 (Grundlagen Neuronaler Netze, 10 Punkte)\n",
    "a) Gegeben sei ein neuronales Netz zur Klassifikation, das - wie auf Folie 17 in Kapitel 6a - aus einer einzigen Schicht besteht und auf eine Aktivierungsfunktion verzichtet. Kann sich durch eine Skalierung aller Parameter mit einer positiven Konstante $\\gamma>0$ die Klasse ändern, die für eine gegebene Eingabe die höchste Bewertung erhält? Begründet eure Antwort kurz. Ändert sich die Antwort, wenn man die bias-Terme von der Skalierung ausnimmt? Ändert sich die Antwort, wenn man nichtlineare Aktivierungsfunktionen einführt und das Netzwerk tiefer macht? (5P)"
   ]
  },
  {
   "cell_type": "markdown",
   "metadata": {},
   "source": [
    "_Antwort:_"
   ]
  },
  {
   "cell_type": "markdown",
   "metadata": {},
   "source": [
    "b) Die Analyse von Bildern realistischer Größe ist rein mit vollständig verbundenen Schichten praktisch nicht sinnvoll möglich. Berechnet um den Grund dafür zu verdeutlichen die Zahl der Parameter, die ein neuronales Netzwerk enthält, das ein Regressionsproblem auf 200x200 Pixeln großen RGB-Bildern lösen soll. Hierbei sollen die ersten drei vollständig verbundenen verborgenen Schichten jeweils um den Faktor 4 weniger Ausgaben erzeugen als sie Eingaben hatten. Eine vierte vollständig verbundene Schicht soll die verbliebenen Werte auf eine einzige Ausgabe abbilden. Wie viele Parameter haben die einzelnen Schichten und das Netzwerk insgesamt? (5P)"
   ]
  },
  {
   "cell_type": "markdown",
   "metadata": {},
   "source": [
    "_Antwort:_"
   ]
  }
 ],
 "metadata": {
  "kernelspec": {
   "display_name": "Python 3 (ipykernel)",
   "language": "python",
   "name": "python3"
  },
  "language_info": {
   "codemirror_mode": {
    "name": "ipython",
    "version": 3
   },
   "file_extension": ".py",
   "mimetype": "text/x-python",
   "name": "python",
   "nbconvert_exporter": "python",
   "pygments_lexer": "ipython3",
   "version": "3.11.5"
  }
 },
 "nbformat": 4,
 "nbformat_minor": 2
}

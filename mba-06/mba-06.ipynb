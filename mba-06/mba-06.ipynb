{
 "cells": [
  {
   "cell_type": "markdown",
   "metadata": {},
   "source": [
    "<center> <h5>Wintersemester 2024/25</h5> </center>\n",
    "<center> <h1>Medizinische Bildanalyse</h1> </center>\n",
    "<center> <h3>Aufgabenblatt 6</h3> </center>\n",
    "<center> <h5>18. November 2024</h5> </center>\n",
    "<center> <h5>\n",
    "    Prof. Dr. Thomas Schultz, \n",
    "    <a href = \"mailto: jlen@uni-bonn.de\">Jonathan Lennartz</a>,\n",
    "    <a href = \"mailto: jgruen@uni-bonn.de\">Dr. Johannes Grün</a>\n",
    "</h5> </center>\n",
    "<center> <h5>Abgabefrist: <b>25.11.2024, 10:00 Uhr, via eCampus</b></h5> </center>"
   ]
  },
  {
   "cell_type": "markdown",
   "metadata": {},
   "source": [
    "* Bei Fragen bezüglich der Aufgaben nutzt das Forum in eCampus\n",
    "* Die Aufgaben können in Gruppen von **bis zu drei** Studierenden abgegeben werden (eine Abgabe pro Gruppe). Findet euch dazu auf eCampus in Teams zusammen.\n",
    "* Ladet die Abgaben in einem Zip-Archiv hoch. Es sollte das Notebook selbst, einen Export als HTML oder PDF und alle nötigen Datein enthalten, um die Ergebnisse zu reproduzieren. "
   ]
  },
  {
   "cell_type": "markdown",
   "metadata": {},
   "source": [
    "\n",
    "### Aufgabe 1 (Algebraische Rekonstruktion, 23 Punkte)\n",
    "\n",
    "In vielen bildgebenden Verfahren wird die algebraische Rekonstruktion verwendet, um aus den Messungen das ursprüngliche Bild zu rekonstruieren. Dabei wird ausgenutzt, dass die Messung als Linearkombination von Pixelwerten $x_i$ geschrieben werden kann:\n",
    "\n",
    "$\n",
    "A x = b,\n",
    "$\n",
    "\n",
    "wobei $A \\in \\mathbb{R}^{n \\times m}$ die Systemmatrix ist, $b \\in \\mathbb{R}^n$ die Messwerte und $x \\in \\mathbb{R}^m$ das rekonstruierte Bild. Bild und Messung werden hierfür in einen Vektor umgeformt. In der Regel sind die Systemmatrizen schlecht konditioniert, was die Lösung im Sinne der kleinsten Quadrate (per Least Squares) instabil machen kann. Außerdem werden die Matrizen schnell so groß, dass sie nicht mehr in den Arbeitsspeicher passen. Eine mögliche Lösung für dieses Problem ist der Einsatz iterativer Verfahren, wie zum Beispiel des Kaczmarz-Algorithmus.\n",
    " \n",
    "\n",
    "#### a) Implementierung des Kaczmarz-Algorithmus (4 Punkte)\n",
    "\n",
    "Der Kaczmarz-Algorithmus ist ein iteratives Verfahren zur Lösung linearer Gleichungssysteme. Beginnend mit einem Startvektor, z.B. $x_0=0$, wird die aktuelle Näherungslösung in jeder Iteration im Hinblick auf jeweils eine Zeile des Gleichungssystems verbessert. Daher muss nicht die komplette Matrix auf einmal im Speicher verfügbar sein. Eine einfache Variante des Verfahrens verfeinert die angenäherte Lösung $x_k$ aus der $k$-ten Iteration durch Anwendung der Formel\n",
    "\n",
    "$$\n",
    "x_{k+1} = x_k + \\frac{b_i - A_i^T x_k}{\\| A_i \\|^2} A_i,\n",
    "$$\n",
    "\n",
    "wobei zyklisch über die einzelnen Gleichungen iteriert wird, d.h. $ i = (k \\mod n) $, $ b_i \\in \\mathbb{R}$ ist der $i$-te Eintrag von $b$ und $A_i \\in \\mathbb{R}^m$ die $ i $-te Zeile der Matrix $A$.\n",
    "\n",
    "Implementiert diesen Algorithmus als Python-Funktion `solve_kaczmarz`, die eine Lösung zurückgibt, sobald ein geeignetes Abbruchkriterium erreicht wurde, sich insbesondere die Lösung $x$ nach $n$ Iterationen nur noch wenig verändert hat (L2-Norm) oder eine vorgegebene Zahl von Iterationen erreicht wurde. Wendet Eure Funktion auf die gegebene Matrix $A$ und den Vektor $b$ an und vergleicht das Ergebnis mit der Lösung, die wir mit `numpy.linalg.lstsq` erhalten. "
   ]
  },
  {
   "cell_type": "code",
   "execution_count": 1,
   "metadata": {},
   "outputs": [],
   "source": [
    "import numpy as np \n",
    "\n",
    "def solve_kaczmarz(A, b, X, eps=1e-3, max_iter=200):\n",
    "    n, m = A.shape\n",
    "    k = 0\n",
    "\n",
    "    x = []\n",
    "    x.append(np.zeros(m))\n",
    "\n",
    "    while k < max_iter:\n",
    "        i = k % n\n",
    "\n",
    "        num = b[i] - np.dot(np.transpose(A[i,:]), x[k])\n",
    "        denom = np.linalg.norm(A[i,:], ord=2) ** 2\n",
    "\n",
    "        x_next = x[k] + (num / denom) * A[i,:]\n",
    "\n",
    "        if np.linalg.norm(x_next - x, ord=2) < eps:\n",
    "            break\n",
    "\n",
    "        x.append(x_next)\n",
    "        k += 1\n",
    "\n",
    "    return x\n"
   ]
  },
  {
   "cell_type": "code",
   "execution_count": 2,
   "metadata": {},
   "outputs": [
    {
     "name": "stdout",
     "output_type": "stream",
     "text": [
      "Kaczmarz: [1. 2.]\n",
      "Numpy: [1. 2.]\n"
     ]
    }
   ],
   "source": [
    "A = np.array([[-4, 1], [2, 0.5], [3, 1.5], [0, 1]])\n",
    "b = np.array([-2, 3, 6, 2.])\n",
    "x_kaczmarz = solve_kaczmarz(A, b, np.zeros(2))\n",
    "x_np = np.linalg.lstsq(A, b, rcond=None)\n",
    "\n",
    "print(\"Kaczmarz:\", x_kaczmarz[-1])\n",
    "print(\"Numpy:\", x_np[0])"
   ]
  },
  {
   "cell_type": "markdown",
   "metadata": {},
   "source": [
    "#### b) Visualisierung des Kaczmarz-Algorithmus (5 Punkte)\n",
    "\n",
    "<img alt=\"Reference\" src=\"kaczmarz.png\" width=\"45%\">\n",
    "\n",
    "Abbildung 1: Visualisierung des iterativen Kaczmarz-Algorithmus.\n",
    "\n",
    "Um den Kaczmarz-Algorithmus besser zu verstehen, können wir in unserem Beispiel jeden Vektor $x_k$ als Punkt in der Ebene darstellen. Die Menge aller Lösungen der $i$-ten Gleichung bildet dann jeweils eine Gerade. Da unser Gleichungssystem zwar überbestimmt, aber konsistent ist, d.h. trotzdem eine exakte Lösung zulässt, schneiden sich diese Geraden in einem Punkt, der der Lösung des Gleichungssystems entspricht.\n",
    "\n",
    "Wir können die Funktionsweise des Kaczmarz-Algorithmus veranschaulichen, indem wir die Näherungslösungen $x_k$ als Punkte in das Diagramm einzeichnen und aufeinander folgende Werte miteinander verbinden. Erzeugt selbst eine entsprechende Visualisierung; das Ergebnis sollte ähnlich aussehen wie Abbildung 1.\n"
   ]
  },
  {
   "cell_type": "code",
   "execution_count": 3,
   "metadata": {},
   "outputs": [
    {
     "data": {
      "image/png": "[encoded data removed]",
      "text/plain": [
       "<Figure size 640x480 with 1 Axes>"
      ]
     },
     "metadata": {},
     "output_type": "display_data"
    }
   ],
   "source": [
    "# Lösung\n",
    "import matplotlib.pyplot as plt\n",
    "\n",
    "def visualize_kaczmarz(x_kaczmarz):\n",
    "    x_vals = [x[0] for x in x_kaczmarz]\n",
    "    y_vals = [x[1] for x in x_kaczmarz]\n",
    "\n",
    "#    colors = [ \"blue\", \"orange\", \"green\", \"red\" ]\n",
    "\n",
    "#    for i in range(1, A.shape[0]+1):\n",
    "#        plt.axline(x_kaczmarz[i], x_kaczmarz[i+A.shape[0]], c=colors[i-1])\n",
    "\n",
    "\n",
    "    plt.plot(x_vals, y_vals, c=\"black\")\n",
    "    plt.scatter(x_vals, y_vals, c=\"black\")\n",
    "\n",
    "    plt.axis(\"square\")\n",
    "    plt.xlim(-0.5, 2.5)\n",
    "    plt.ylim(-0.5, 2.5)\n",
    "\n",
    "    plt.xlabel(\"x\")\n",
    "    plt.ylabel(\"y\")\n",
    "\n",
    "    plt.show()\n",
    "\n",
    "\n",
    "x_kaczmarz = solve_kaczmarz(A, b, np.zeros(2))\n",
    "visualize_kaczmarz(x_kaczmarz)"
   ]
  },
  {
   "cell_type": "markdown",
   "metadata": {},
   "source": [
    "#### c) Erläuterung des Kaczmarz-Algorithmus (3 Punkte)\n",
    "\n",
    "Wie in Abbildung 1 zu sehen liegen ab der ersten Iteration $k=1$ alle Punkte $x_k$ auf einer der Geraden. Im drei- oder höherdimensionalen Fall liegen sie entsprechend auf einer (Hyper-)Ebene. Erläutert kurz, warum das so ist."
   ]
  },
  {
   "cell_type": "markdown",
   "metadata": {},
   "source": [
    "Wir bestimmen die Lösung des Gleichungssystems, in der iten Zeile der Matrix A. Diese Lösung ist ein Punkt, der auf der Geraden liegt, die durch die Lösung des Gleichungssystems definiert ist. "
   ]
  },
  {
   "cell_type": "markdown",
   "metadata": {},
   "source": [
    "#### d) Relaxation für inkonsistente Gleichungssyteme (3 Punkte)\n",
    "\n",
    "In der Bildgebung erhalten wir in der Regel überbestimmte Gleichungssysteme, für die es aufgrund des Messrauschens keine exakte Lösung gibt. Probiert anhand der unten vorgegebenen Werte aus, wie sich der Kaczmarz-Algorithmus in einem solchen Fall verhält. Visualisiert die Ergebnisse mit Eurer Funktion aus b).\n",
    "\n",
    "Um die Konvergenz in solchen Fällen zu verbessern wird das auf $x_k$ addierte Update häufig mit einem Dämpfungsparameter $\\lambda_k<1$ herunterskaliert. Passt Euren Code entsprechend an und vergleicht das Ergebnis (auch wieder graphisch) mit dem vorherigen, unregularisierten Ergebnis. Nutzt dabei $\\lambda_k = 0.9^p$, wobei Ihr mit $p=0$ beginnen und $p$ jedes Mal um eins erhöhen könnt, nachdem einmal über alle Zeilen iteriert wurde. "
   ]
  },
  {
   "cell_type": "code",
   "execution_count": 4,
   "metadata": {},
   "outputs": [
    {
     "data": {
      "image/png": "[encoded data removed]",
      "text/plain": [
       "<Figure size 640x480 with 1 Axes>"
      ]
     },
     "metadata": {},
     "output_type": "display_data"
    },
    {
     "name": "stdout",
     "output_type": "stream",
     "text": [
      "[1.06394883 1.59673473]\n"
     ]
    }
   ],
   "source": [
    "A = np.array([[-4, 1], [2, 0.5], [3, 1.5], [0, 1]])\n",
    "b = np.array([-2, 3, 6, 1.5])\n",
    "\n",
    "# Lösung:\n",
    "def solve_kaczmarz_v2(A, b, X, eps=1e-3, max_iter=200):\n",
    "    n, m = A.shape\n",
    "    k = 0\n",
    "\n",
    "    x = []\n",
    "    x.append(X)\n",
    "\n",
    "    p = 0\n",
    "\n",
    "    while k < max_iter:\n",
    "        i = k % n\n",
    "\n",
    "        num = b[i] - np.dot(np.transpose(A[i,:]), x[k])\n",
    "        denom = np.linalg.norm(A[i,:], ord=2) ** 2\n",
    "\n",
    "        x_next = x[k] + (0.9 ** p) * (num / denom) * A[i,:]\n",
    "\n",
    "        if np.linalg.norm(x_next - x, ord=2) < eps:\n",
    "            break\n",
    "\n",
    "        x.append(x_next)\n",
    "        k += 1\n",
    "\n",
    "        if i == n - 1:\n",
    "            p += 1\n",
    "\n",
    "    return x\n",
    "\n",
    "x_kaczmarz_2 = solve_kaczmarz_v2(A, b, np.zeros(2))\n",
    "visualize_kaczmarz(x_kaczmarz_2)\n",
    "\n",
    "print(x_kaczmarz_2[-1])"
   ]
  },
  {
   "cell_type": "markdown",
   "metadata": {},
   "source": [
    "#### e) Kaczmarz-Algorithmus in der Tomographie (4 Punkte)\n",
    "Bisher sind wir davon ausgegangen, dass wir die Koeffizienten der Systemmatrix kennen, die unsere Messung beschreibt, und dass wir sie zur Bildrekonstruktion zeilenweise in den Arbeitsspeicher laden. Tatsächlich genügt es, wenn statt dessen ein Projektionsoperator $F(x_k;\\theta,s)$ zur Verfügung steht, der aus der angenäherten Rekonstruktion $x_k$ durch Berechnung des Linienintegrals entlang $(\\theta,s)$ einen Messwert vorhersagt. Außerdem benötigen wir noch ein Bildupdate $U(x_k,\\alpha;\\theta,s)$, mit dem wir einen Wert $\\alpha$ auf die Pixel entlang der Gerade $(\\theta,s)$ \"verteilt\" auf das Bild vorherige Bild $x_k$ addieren können.\n",
    "Beschreibt, z.B. durch Pseudocode, wie man allein mit diesen beiden Operationen mit dem Kaczmarz-Algorithmus aus gegebenen Messwerten ein Bild rekonstruieren kann."
   ]
  },
  {
   "cell_type": "markdown",
   "metadata": {},
   "source": [
    "_Lösung:_"
   ]
  },
  {
   "cell_type": "markdown",
   "metadata": {},
   "source": [
    "#### f) Algebraische Rekonstruktion in der Praxis (4 Punkte) \n",
    "\n",
    "Eine praktische Implementierung der algebraischen Rekonstruktion steht in der Funktion `iradon_sart` des Python-Pakets `skimage` zur Verfügung. Nutzt sie um aus den Dateien `sinogram-clean.npz` und `sinogram-noisy.npz` jeweils ein $400\\times 400$ Pixel großes Bild zu rekonstruieren.\n",
    "`iradon_sart` nutzt einen simultanen Ansatz, der für jede Richtung alle Messungen gleichzeitig berücksichtigt und nach einem Durchlauf terminiert. Verfeinert die Rekonstruktion durch wiederholte Aufrufe, die Ihr statt mit einem leeren Bild mit dem Ergebnis des jeweils vorherigen Aufrufs initialisiert. Verbessert sich das rekonstruierte Bild hierdurch Eurem Eindruck nach? Hängt Eure Antwort von dem Rauschniveau der Messungen ab?"
   ]
  },
  {
   "cell_type": "code",
   "execution_count": null,
   "metadata": {},
   "outputs": [],
   "source": []
  },
  {
   "cell_type": "markdown",
   "metadata": {},
   "source": [
    "### Aufgabe 2 (Vergleich von CT und MRT, 12 Punkte)\n",
    "Stellt für jede der folgenden Behauptungen fest, ob sie auf CT, MRT, beides, oder keins von beidem zutrifft. Für die korrekte Antwort gibt es je einen Punkt, für eine kurze Erläuterung jeweils zwei weitere."
   ]
  },
  {
   "cell_type": "markdown",
   "metadata": {},
   "source": [
    "a) Der Bildkontrast eines Gewebes steht in unmittelbarem Zusammenhang mit seiner Dichte."
   ]
  },
  {
   "cell_type": "markdown",
   "metadata": {},
   "source": [
    "_Antwort:_"
   ]
  },
  {
   "cell_type": "markdown",
   "metadata": {},
   "source": [
    "b) Kombinierte Hybridgeräte ermöglichen es, mittels PET und dieser Bildmodalität strukturelle und funktionelle Bilder zu fusionieren."
   ]
  },
  {
   "cell_type": "markdown",
   "metadata": {},
   "source": [
    "_Antwort:_"
   ]
  },
  {
   "cell_type": "markdown",
   "metadata": {},
   "source": [
    "c) Es kommen Gamma-Kameras zum Einsatz, die um den Patienten rotiert werden."
   ]
  },
  {
   "cell_type": "markdown",
   "metadata": {},
   "source": [
    "_Antwort:_"
   ]
  },
  {
   "cell_type": "markdown",
   "metadata": {},
   "source": [
    "d) Es ist unbedingt darauf zu achten, keine ferromagnetischen Gegenstände in den Untersuchungsraum mitzunehmen."
   ]
  },
  {
   "cell_type": "markdown",
   "metadata": {},
   "source": [
    "_Antwort:_"
   ]
  },
  {
   "cell_type": "markdown",
   "metadata": {},
   "source": [
    "### Aufgabe 3 (Bildstörungen im Frequenzraum, 15 Punkte)\n",
    "In der MRT-Bildgebung können bestimmte Bildstörungen im Frequenzraum auftreten. Auch wenn wir erst in der nächsten Woche genauer begründen warum das so ist, könnt Ihr Euch bereits jetzt mit Euren Kenntnissen aus Kapitel 2 und Blatt 3 klar machen, wie sich bestimmte Artefakte im Frequenzraum auf ein durch Rücktransformation gewonnenes Bild auswirken."
   ]
  },
  {
   "cell_type": "markdown",
   "metadata": {},
   "source": [
    "a) Erklärt kurz, wie es sich auf ein Bild auswirkt, wenn ein einzelner Punkt im Frequenzraum durch einen viel zu hohen Wert ersetzt wird. Illustriert Eure Antwort, indem ihr das Bild ```brain.png``` Fourier-transformiert, entsprechend stört, und den Betrag (Magnitudenbild) der Rücktransformierten visualisiert. (5P)"
   ]
  },
  {
   "cell_type": "markdown",
   "metadata": {},
   "source": [
    "_Antwort und Lösung:_"
   ]
  },
  {
   "cell_type": "markdown",
   "metadata": {},
   "source": [
    "b) Erklärt kurz, wie es sich auf ein Bild auswirkt, wenn die Werte im Frequenzraum ein wenig nach rechts verschoben werden. Macht es hier einen Unterschied, ob man das Bild (wie üblich) als Betrag der Rücktransformierten rekonstruiert oder als deren Realteil? Illustriert Eure Antwort wieder mit einem entsprechenden Experiment. Nutzt dabei gern eine ganzzahlige Verschiebung, damit Ihr nicht interpolieren müsst. (5P)  \n",
    "_Tipp:_ Denkt an Aufgabe 2a) von Blatt 3!"
   ]
  },
  {
   "cell_type": "markdown",
   "metadata": {},
   "source": [
    "_Antwort und Lösung:_"
   ]
  },
  {
   "cell_type": "markdown",
   "metadata": {},
   "source": [
    "c) Werden die Werte im Frequenzraum durch additives Gauss-Rauschen gestört, hat auch dies Auswirkungen auf die rekonstruierten Bilder. Insbesondere sind Werte im Hintergrund dann in der Regel nicht mehr genau Null. Visualisiert diesen Effekt, indem Ihr das Bild ```brain.png``` Fourier-transformiert, Gauss-Rauschen auf Real- und Imaginärteile addiert und den Betrag der Rücktransformierten betrachtet. Visualisiert sowohl das gestörte Bild als auch ein Histogramm der Voxel, die ursprünglich genau Null waren. (5P)"
   ]
  },
  {
   "cell_type": "markdown",
   "metadata": {},
   "source": [
    "_Lösung:_"
   ]
  }
 ],
 "metadata": {
  "kernelspec": {
   "display_name": "mba",
   "language": "python",
   "name": "python3"
  },
  "language_info": {
   "codemirror_mode": {
    "name": "ipython",
    "version": 3
   },
   "file_extension": ".py",
   "mimetype": "text/x-python",
   "name": "python",
   "nbconvert_exporter": "python",
   "pygments_lexer": "ipython3",
   "version": "3.12.7"
  }
 },
 "nbformat": 4,
 "nbformat_minor": 4
}

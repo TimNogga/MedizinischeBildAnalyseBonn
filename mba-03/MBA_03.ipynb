{
 "cells": [
  {
   "cell_type": "markdown",
   "id": "c864abe5",
   "metadata": {},
   "source": [
    "<center> <h5>Wintersemester 2024/25</h5> </center>\n",
    "<center> <h1>Medizinische Bildanalyse</h1> </center>\n",
    "<center> <h3>Aufgabenblatt 3</h3> </center>\n",
    "<center> <h5>28. Oktober 2024</h5> </center>\n",
    "<center> <h5>\n",
    "    Prof. Dr. Thomas Schultz, \n",
    "    <a href = \"mailto: jlen@uni-bonn.de\">Jonathan Lennartz</a>,\n",
    "    <a href = \"mailto: jgruen@uni-bonn.de\">Dr. Johannes Grün</a>\n",
    "</h5> </center>\n",
    "<center> <h5>Abgabefrist: <b>04.11.2022, 10:00 Uhr, via eCampus</b></h5> </center>\n",
    "</br>"
   ]
  },
  {
   "cell_type": "markdown",
   "id": "bd870076",
   "metadata": {},
   "source": [
    "* Bei Fragen bezüglich der Aufgaben nutzt das Forum in eCampus\n",
    "* Die Aufgaben können in Gruppen von **bis zu drei** Studierenden abgegeben werden (eine Abgabe pro Gruppe). Findet euch dazu auf eCampus in Teams zusammen.\n",
    "* Ladet die Abgaben in einem Zip-Archiv hoch. Es sollte das Notebook selbst, einen Export als HTML oder PDF und alle nötigen Datein enthalten, um die Ergebnisse zu reproduzieren. \n",
    "</br>\n",
    "</br>\n",
    "</br>\n",
    "</br>"
   ]
  },
  {
   "cell_type": "markdown",
   "id": "56fd537d",
   "metadata": {},
   "source": [
    "### Aufgabe 1 (DFT und FFT, 20 Punkte)"
   ]
  },
  {
   "cell_type": "markdown",
   "id": "c8d17401",
   "metadata": {},
   "source": [
    "a) In der Vorlesung wurde die Fourier-Transformation für diskrete Signale definiert als\n",
    "$$X_k=\\sum_{n=0}^{N-1}e^{-2\\pi i k(n/N)}x_n \\text{ for } k = 0, \\dots , N- 1$$\n",
    "für eine Reihe $x \\in \\mathbb{R}^N$ (oder $\\mathbb{C}^N$). Zeigt, dass  \n",
    "$$x_n=\\frac{1}{N}\\sum_{k=0}^{N-1}e^{2\\pi i k(n/N)}X_k$$\n",
    "die Inverse der DFT beschreibt. (5P)\n",
    "\n",
    "_Tipp: Denkt an folgende Formel für Partialsummen der geometrischen Reihe:_\n",
    "$ \\sum_{k=0}^{n-1} a r^k = a \\left( \\frac{1 - r^{n}}{1-r} \\right)$\n",
    "</br>"
   ]
  },
  {
   "cell_type": "markdown",
   "id": "08e73a2b",
   "metadata": {},
   "source": [
    "_Lösung:_\n",
    "\n",
    "\n",
    "Wir beginnen mit der Inversionsformel der DFT:\n",
    "\n",
    "$x_n = \\frac{1}{N} \\sum_{k=0}^{N-1} \\exp\\left(2 \\pi i \\frac{k n}{N}\\right) X_k$\n",
    "\n",
    "Nun setzen wir $X_k = \\sum_{m=0}^{N-1} e^{-2\\pi i \\frac{k m}{N}} x_m$ in diese Gleichung ein:\n",
    "\n",
    "$x_n = \\frac{1}{N} \\sum_{k=0}^{N-1} e^{2 \\pi i \\frac{k n}{N}} \\left( \\sum_{m=0}^{N-1} e^{-2 \\pi i \\frac{k m}{N}} x_m \\right)$\n",
    "\n",
    "Wir können die Summen vertauschen, da es sich um endliche Summen handelt:\n",
    "\n",
    "$x_n = \\frac{1}{N} \\sum_{m=0}^{N-1} x_m \\sum_{k=0}^{N-1} e^{2 \\pi i \\frac{k n}{N}} e^{-2 \\pi i \\frac{k m}{N}}$\n",
    "\n",
    "Nun fassen wir die Exponentialterme zusammen:\n",
    "\n",
    "$x_n = \\frac{1}{N} \\sum_{m=0}^{N-1} x_m \\sum_{k=0}^{N-1} e^{2 \\pi i \\frac{k (n - m)}{N}}$\n",
    "\n",
    "Jetzt betrachten wir die innere Summe separat:\n",
    "\n",
    "$\\sum_{k=0}^{N-1} e^{2 \\pi i \\frac{k (n - m)}{N}}$\n",
    "\n",
    "Dies ist eine geometrische Reihe. Abhängig davon, ob $n = m$ oder $n \\neq m$, gibt es zwei Fälle:\n",
    "\n",
    "1. Wenn $n = m$:\n",
    "   $\\sum_{k=0}^{N-1} e^{2 \\pi i \\frac{k (n - m)}{N}} = \\sum_{k=0}^{N-1} 1 = N$\n",
    "\n",
    "2. Wenn $n \\neq m$, haben wir eine geometrische Reihe der Form:\n",
    "   $\\sum_{k=0}^{N-1} r^k = \\frac{1 - r^N}{1 - r}$\n",
    "   mit $r = e^{2 \\pi i \\frac{(n - m)}{N}}$. Da $r^N = e^{2 \\pi i (n - m)} = 1$, ergibt sich\n",
    "   $\\sum_{k=0}^{N-1} e^{2 \\pi i \\frac{k (n - m)}{N}} = \\frac{1 - 1}{1 - r} = 0$. Da r $n-m \\notin \\mathbb{Z}$, also macht der Nenner keine Probleme\n",
    "\n",
    "Zusammengefasst ergibt sich also:\n",
    "\n",
    "$\\sum_{k=0}^{N-1} e^{2 \\pi i \\frac{k (n - m)}{N}} = \n",
    "\\begin{cases}\n",
    "    N, & \\text{wenn } n = m, \\\\\n",
    "    0, & \\text{wenn } n \\neq m.\n",
    "\\end{cases}$\n",
    "\n",
    "Daraus folgt, dass\n",
    "\n",
    "$x_n = \\frac{1}{N} \\sum_{m=0}^{N-1} x_m \\cdot N \\cdot \\delta_{n,m} = x_n$.\n",
    "\n",
    "Dies zeigt, dass die Inversionsformel tatsächlich $x_n$ exakt rekonstruiert, da nur der Term $m = n$ übrig bleibt.\n",
    "\n"
   ]
  },
  {
   "cell_type": "markdown",
   "id": "0316488f",
   "metadata": {},
   "source": [
    "b) Schreibt eine Python-Funktion, die mittels der Formel aus Teil a) die DFT berechnet. (5P)"
   ]
  },
  {
   "cell_type": "code",
   "execution_count": 2,
   "id": "022017f0",
   "metadata": {},
   "outputs": [
    {
     "name": "stdout",
     "output_type": "stream",
     "text": [
      "[ 2.0000000e+00+0.j -2.0000000e+00-2.j  8.8817842e-16-2.j\n",
      "  4.0000000e+00+4.j]\n"
     ]
    }
   ],
   "source": [
    "# Lösung\n",
    "import numpy as np\n",
    "import matplotlib.pyplot as plt\n",
    "\n",
    "\n",
    "def DFT_1d(x):\n",
    "    N = len(x)\n",
    "    X = np.zeros(N, dtype=complex)\n",
    "\n",
    "    for k in range(N):\n",
    "        for n in range(N):\n",
    "            X[k] += x[n] * np.exp(complex(0, -2 * np.pi * k * n / N))\n",
    "    \n",
    "    return X\n",
    "\n",
    "# Beispiel von https://en.wikipedia.org/wiki/Discrete_Fourier_transform#Example\n",
    "x = np.array([1, 2 - 1j, -1j, -1 + 2j])\n",
    "X = DFT_1d(x)\n",
    "print(X)"
   ]
  },
  {
   "cell_type": "markdown",
   "id": "7ecaba39-ddab-4f63-a11b-514a6ac3df11",
   "metadata": {},
   "source": [
    "c) In der Praxis wird die naive Implemetierung der DFT häufig durch die schnelle Fourier-Transformation (FFT=Fast Fourier Transform) ersetzt, welche Ihr in dieser Aufgabe kennen lernt. \n",
    "Im Zentrum der Herleitung steht folgende Symmetrie:  \n",
    "$$\n",
    "X_k = \\sum_{n=0}^{N-1}  x_n e^{- 2i \\pi k \\frac{n}{N}}  = \\sum_{n=0}^{N-1}  x_n \\underbrace{e^{-2i\\pi jN \\frac{n}{N}}}_{=1} e^{-2i \\pi k \\frac{n}{N}} = X_{k+jN}\\, \\forall j \\in \\mathbb{N}\n",
    "$$\n",
    "Sofern man die DFT-Formel also so umstellen kann, dass die Berechnung sowohl $X_k$ wie auch $X_{k+jN}$ enthält, spart man sich die Berechnung einer der beiden Komponenten. Dafür teilt man die DFT-Summe im ersten Schritt in zwei Teile, die jeweils die geraden und ungerade Koeffizienten enthalten:\n",
    "$$\n",
    "\\begin{align}\n",
    "X_k & = \\sum_{n=0}^{N-1}  x_n e^{- 2i \\pi k \\frac{n}{N}} \\\\\n",
    "& = \\sum_{m=0}^{\\frac{N}{2}-1}  x_{2m} e^{- 2i \\pi k \\frac{2m}{N}} + \\sum_{m=0}^{\\frac{N}{2}-1}  x_{2m+1} e^{- 2i \\pi k \\frac{2m + 1}{N}} \\\\\n",
    "& =  \\sum_{m=0}^{\\frac{N}{2}-1}  x_{2m} e^{- 2i \\pi k \\frac{2m}{N}} + e^{-2i \\pi \\frac{k}{N}}\\sum_{m=0}^{\\frac{N}{2}-1}  x_{2m+1} e^{- 2i \\pi k \\frac{2m}{N}} \\\\\n",
    "& = X^{\\prime}_k + e^{-2i \\pi \\frac{k}{N}} X^{\\prime \\prime}_k.\n",
    "\\end{align}\n",
    "$$\n",
    "Bedenkt man nun, dass $X^{\\prime}_k$ und $X^{\\prime \\prime}_k$ jeweils wieder DFTs mit Länge $N/2$ beschreiben, lässt sich auch wieder die oben beschriebene Symmetrie anwenden und man erhält $X^{\\prime}_k = X^{\\prime}_{k+\\frac{N}{2}}$ sowie  $X^{\\prime \\prime}_k = X^{\\prime \\prime}_{k+\\frac{N}{2}}$. Man kann diese Eigenschaft nutzen, um den zweiten Teil der originalen DFT (für $k\\geq N/2$) durch den ersten Teil (für $k<N/2$) zu ersetzen und spart so Rechenoperationen. Durch rekursive Anwendung dieser _Divide & Conquer_ Strategie bleibt letztendlich nur ein einziger Summand übrig.\n",
    "</br>\n",
    "Implementiert auf Basis dieser Herleitung eine FFT. Es genügt, wenn Eure Funktion 1D-Inputs mit einer Länge von $2^n$ verarbeiten kann. (7P)"
   ]
  },
  {
   "cell_type": "code",
   "execution_count": 2,
   "id": "e6717222",
   "metadata": {},
   "outputs": [],
   "source": [
    "def FFT_1d(x):\n",
    "    \"\"\"\n",
    "    A recursive implementation of \n",
    "    the 1D Cooley-Tukey FFT, the \n",
    "    input should have a length of \n",
    "    power of 2. \n",
    "    \"\"\"\n",
    "    \n",
    "    N = len(x)\n",
    "    N_half = int(N / 2)\n",
    "\n",
    "    if N == 1:\n",
    "        return x\n",
    "    else:\n",
    "        FFT_1 = FFT_1d(x[::2])\n",
    "        FFT_2 = FFT_1d(x[1::2])\n",
    "\n",
    "        X = np.zeros(N, dtype=complex)\n",
    "\n",
    "        for k in range(N_half):\n",
    "            a = FFT_1[k]\n",
    "            b = np.exp(complex(0, -2 * np.pi * k / N)) * FFT_2[k]\n",
    "\n",
    "            X[k] = a + b\n",
    "            X[k + N_half] = a - b\n",
    "\n",
    "        return X\n",
    "    \n",
    "x = np.array([1, 2 - 1j, -1j, -1 + 2j])\n",
    "X = FFT_1d(x)\n",
    "print(X)"
   ]
  },
  {
   "cell_type": "markdown",
   "id": "d8ac56c0",
   "metadata": {},
   "source": [
    "d) Schreibt eine Routine zur Laufzeiterfassung von Euren DFT- und FFT-Implementierungen. Überlegt euch anschließend Input-Signale verschiedener Länge und visualisiert den Vergleich. (3P)"
   ]
  },
  {
   "cell_type": "code",
   "execution_count": 3,
   "id": "09362f6d",
   "metadata": {},
   "outputs": [],
   "source": [
    "import timeit\n",
    "\n",
    "# Euer Code"
   ]
  },
  {
   "cell_type": "markdown",
   "id": "b6c2e4d5",
   "metadata": {},
   "source": [
    "### Aufgabe 2 (Eigenschaften der Fourier-Transformation, 10 Punkte)\n",
    "\n",
    "</br>"
   ]
  },
  {
   "cell_type": "markdown",
   "id": "608ebe1b",
   "metadata": {},
   "source": [
    "a) Verschiebungen eines Signals verändern nicht sein Amplitudenspektrum, wohl aber die Phasen. Zeigt folgenden Zusammenhang für die Fourier-Transformation: $f(x - x_0) \\longleftrightarrow e^{-i\\cdot 2\\pi \\cdot u\\cdot x_0} \\cdot F(u)$ (4P)"
   ]
  },
  {
   "cell_type": "markdown",
   "id": "db5dba01",
   "metadata": {},
   "source": [
    "_Lösung:_\n",
    "\n",
    "</br>"
   ]
  },
  {
   "cell_type": "markdown",
   "id": "d73917c6",
   "metadata": {},
   "source": [
    "b) Zeigt folgenden Zusammenhang für die Fourier-Transformation, der die Auswirkungen von Ableitungen im Ortsraum auf den Frequenzraum beschreibt: $\\frac{\\delta}{\\delta x}f(x) \\longleftrightarrow i\\cdot 2\\pi \\cdot u \\cdot F(u)$ (4P)"
   ]
  },
  {
   "cell_type": "markdown",
   "id": "eadcb247",
   "metadata": {},
   "source": [
    "_Lösung:_\n",
    "\n",
    "</br>"
   ]
  },
  {
   "cell_type": "markdown",
   "id": "563cb6c8",
   "metadata": {},
   "source": [
    "c) In Kapitel 1 wurde klar, wie wichtig es ist, verrauschte Bilder vor der Berechnung von Ableitungen zu glätten. Erläutert, inwiefern die Formel in b) uns das noch einmal vor Augen führt. (2P)"
   ]
  },
  {
   "cell_type": "markdown",
   "id": "f7694803",
   "metadata": {},
   "source": [
    "_Lösung:_\n",
    "\n",
    "</br>"
   ]
  },
  {
   "cell_type": "markdown",
   "id": "c179716d",
   "metadata": {
    "tags": []
   },
   "source": [
    "### Aufgabe 3 (Bildfilterung im Frequenzraum, 20 Punkte)\n",
    "\n",
    "\n",
    "<figure align=\"center\">\n",
    "  <img alt=\"Brain\" src=\"brain.png\" width=\"35%\">\n",
    "    &nbsp; &nbsp; &nbsp; &nbsp;\n",
    "  <img alt=\"Brain Log S\" src=\"brain-logps.png\" width=\"35%\">\n",
    "  <figcaption style='margin-left: 25%;font-family: Serif;'>Abbildung: Logarithmisches Amplitudenspektrum einer Kopf-MRT-Aufnahme.</figcaption>\n",
    "</figure>\n",
    "</br>"
   ]
  },
  {
   "cell_type": "markdown",
   "id": "771baa17",
   "metadata": {},
   "source": [
    "a) Schreibt eine Funktion zur Visualisierung des Amplitudenspektrums eines Graustufenbildes. Logarithmiert die Werte, da sie sehr unterschiedliche Größenordnungen haben. Schneidet sehr kleine Werte geeignet ab. Wendet eure Funktion auf das Bild brain.png an und betrachtet das Ergebnis. Achtet darauf, dass Ihr die Nullfrequenz wie im Beispiel oben im Zentrum darstellt. (6P)"
   ]
  },
  {
   "cell_type": "code",
   "execution_count": 4,
   "id": "d2e1e55f",
   "metadata": {},
   "outputs": [],
   "source": [
    "# Lösung\n",
    "\n",
    "def amplitude_spectrum(img):\n",
    "        \n",
    "    # Transformiert img in den Frequenzraum\n",
    "    \n",
    "    # Nutzt die FFT Verschiebung, sodass sich die Nullfrequenz im Zentrum Eures Bildes \n",
    "    # befindet. Tipp: scipy.fft\n",
    "    \n",
    "    # Nehmt den Logarithmus der Magnitude der komplexen Zahlen.\n",
    "    # In unserem Beispiel oben haben wir kleine Werte abgeschnitten.\n",
    "    \n",
    "    pass"
   ]
  },
  {
   "cell_type": "markdown",
   "id": "4a894f32",
   "metadata": {},
   "source": [
    "b) In der Vorlesung haben wir besprochen, dass die Gauss-Filterung durch Faltung im Bildraum einer punktweisen Multiplikationen mit einer (nicht normierten) Glockenkurve im Frequenzraum entspricht, deren Standardabweichung wir als $\\sigma_u := \\frac{1}{2\\pi \\sigma}$ angegeben haben. Implementiert die Gauss-Filterung auf diese Weise, d.h. durch Anwendung der FFT (aus scipy), entsprechender Multiplikation, und Rücktransformation.\n",
    "\n",
    "Überlegt Euch insbesondere anhand des Frequenzrasters der DFT, welcher konkrete Zahlenwert sich für $\\sigma_u$ ergibt, wenn man für $u$ den Abstand der Gitterkoordinaten vom Ursprung des Frequenzraums einsetzt und denselben Effekt erzielen möchte wie ein $\\sigma$ von 2 Pixeln im Ortsraum. Wie hängt dieser Wert von Breite bzw. Höhe des Bildes ab? _Tipp: Wenn Breite und Höhe sich unterscheiden, benötigen wir für die beiden Koordinaten im diskreten Frequenzraum unterschiedliche $\\sigma_u$._\n",
    "\n",
    "Vergleicht Euer Ergebnis visuell mit dem Resultat einer Gauss-Filterung mit einem $\\sigma$ von 2 Pixeln aus einer beliebigen Python-Bibliothek, z.B. scikit-image. (7P)"
   ]
  },
  {
   "cell_type": "code",
   "execution_count": 1,
   "id": "f9792ecd",
   "metadata": {},
   "outputs": [],
   "source": [
    "# Lösung\n",
    "\n",
    "\n"
   ]
  },
  {
   "cell_type": "markdown",
   "id": "c04669a4",
   "metadata": {},
   "source": [
    "c) Überlegt Euch, was passiert, wenn man den Frequenzraum vergrößert, indem man das Ergebnis der FFT symmetrisch um die Nullfrequenz mit Nullen auffüllt (zero padding) und das Ergebnis rücktransformiert. Erläutert, was dabei herauskommen sollte und erklärt kurz warum. (3P)"
   ]
  },
  {
   "cell_type": "markdown",
   "id": "5fb54ab7",
   "metadata": {},
   "source": [
    "_Lösung:_\n",
    "\n",
    "</br>"
   ]
  },
  {
   "cell_type": "markdown",
   "id": "100f2b6e",
   "metadata": {},
   "source": [
    "d) Schreibt eine Funktion, die für ein Eingabebild genau das unter c) beschriebene zero padding implementiert. Visualisiert den Unterschied des ursprünglichen und des resultierenden Bildes geeignet. (4P)"
   ]
  },
  {
   "cell_type": "markdown",
   "id": "605df90c",
   "metadata": {},
   "source": [
    "_Lösung:_\n",
    "\n",
    "</br>"
   ]
  },
  {
   "cell_type": "markdown",
   "id": "05dc1973-49f9-407d-9d47-0f5d883ed749",
   "metadata": {},
   "source": [
    "# Viel Glück!"
   ]
  },
  {
   "cell_type": "code",
   "execution_count": null,
   "id": "4bf2225d-0e04-4239-a058-e9c1cedded7e",
   "metadata": {},
   "outputs": [],
   "source": []
  }
 ],
 "metadata": {
  "kernelspec": {
   "display_name": "mba_env",
   "language": "python",
   "name": "python3"
  },
  "language_info": {
   "codemirror_mode": {
    "name": "ipython",
    "version": 3
   },
   "file_extension": ".py",
   "mimetype": "text/x-python",
   "name": "python",
   "nbconvert_exporter": "python",
   "pygments_lexer": "ipython3",
   "version": "3.12.7"
  }
 },
 "nbformat": 4,
 "nbformat_minor": 5
}

{
 "cells": [
  {
   "cell_type": "markdown",
   "metadata": {},
   "source": [
    "<center> <h5>Wintersemester 2024/25</h5> </center>\n",
    "<center> <h1>Medizinische Bildanalyse</h1> </center>\n",
    "<center> <h3>Aufgabenblatt 10</h3> </center>\n",
    "<center> <h5>16. Dezember 2024</h5> </center>\n",
    "<center> <h5>\n",
    "    Prof. Dr. Thomas Schultz, \n",
    "    <a href = \"mailto: jlen@uni-bonn.de\">Jonathan Lennartz</a>,\n",
    "    <a href = \"mailto: jgruen@uni-bonn.de\">Dr. Johannes Grün</a>\n",
    "</h5> </center>\n",
    "<center> <h5>Abgabefrist: <b>07.01.2025, 10:00 Uhr, via eCampus</b></h5> </center>\n",
    "</br>\n"
   ]
  },
  {
   "cell_type": "markdown",
   "metadata": {},
   "source": [
    "### Aufgabe 1 (Berechnung einer  Referenzform, 20 Punkte)\n",
    "\n",
    "<table><tr>\n",
    "<td> <img src=\"baeume-gegeben.png\" alt=\"Gegebene Formen\" style=\"width: 100%;\"/> </td>\n",
    "<td> <img src=\"baeume-ausgerichtet.png\" alt=\"Ausgerichtete Formen\" style=\"width: 100%;\"/> </td>\n",
    "</tr></table>\n",
    "<center>Abbildung: Die gegeben Formen (links) und das Ergebnis ihrer Ausrichtung auf die geschätzte Referenz (rechts).</center>\n",
    "In dieser Aufgabe erstellen wir anhand eines kleinen Beispiels selbst eine Referenzform, mit dem Algorithmus von Folie 66. Der Jahreszeit gemäß nutzen wir hierzu vier verschiedene Weihnachtsbäume, deren Stützpunkte in der Datei `tree.npz` als 3D-Array `arr_0` der Form (4,2,16) (Bäume, x/y-Koordinaten, Stützpunkte) gegeben sind. "
   ]
  },
  {
   "cell_type": "markdown",
   "metadata": {},
   "source": [
    "a) Lest als erstes die Formen ein und plottet sie, z.B. mit `matplotlib.pyplot.plot`. Wählt das Seitenverhältnis Eures Plots so, dass die Formen unverzerrt dargestellt werden. (4P)"
   ]
  },
  {
   "cell_type": "markdown",
   "metadata": {},
   "source": [
    "_Lösung:_"
   ]
  },
  {
   "cell_type": "markdown",
   "metadata": {},
   "source": [
    "b) Schreibt nun eine Funktion, die die Formen auf den auf den Ursprung zentriert zurückgibt und plottet das Ergebnis. (3P)"
   ]
  },
  {
   "cell_type": "markdown",
   "metadata": {},
   "source": [
    "_Lösung:_"
   ]
  },
  {
   "cell_type": "markdown",
   "metadata": {},
   "source": [
    "c) Schreibt eine Funktion, die die zentrierten Form normiert zurückgibt und plottet das Ergebnis. (3P)"
   ]
  },
  {
   "cell_type": "markdown",
   "metadata": {},
   "source": [
    "_Lösung:_"
   ]
  },
  {
   "cell_type": "markdown",
   "metadata": {},
   "source": [
    "d) Schreibt eine Funktion, die zwei zentrierte Formen *t1, t2* als Argumente entgegennimmt, mit der Singulärwertzerlegung (Folie 64) die optimale Rotation von Form *t1* zu *t2* berechnet und die Rotationsmatrix zurückgibt. Gebt einen Fehler aus, wenn die Determinante negativ ist. Nutzt diese Funktion, um alle Weihnachtsbäume auf den ersten zu rotieren und plottet das Ergebnis. (5P)"
   ]
  },
  {
   "cell_type": "markdown",
   "metadata": {},
   "source": [
    "_Lösung:_"
   ]
  },
  {
   "cell_type": "markdown",
   "metadata": {},
   "source": [
    "e) Nutzt nun diese Bausteine, um den Algorithmus zur Berechnung einer Referenzform (Folie 67) zu implementieren. Im ersten Schritt zentriert ihr jede der gegebenen Formen auf den Ursprung und normiert sie. Ihr könnt davon ausgehen, dass die (zentrierte und normierte) erste Form als initiale Referenz $\\bar{x}_{0}$ genutzt werden soll. Wiederholt dann die folgenden Schritte, bis $\\| \\bar{x}_{j+1} - \\bar{x}_j \\| \\leq \\varepsilon$:\n",
    "\n",
    "- Richtet alle Formen an $\\bar{x}_j$ aus, nennt die Resultate $x_i'$\n",
    "- Berechnet $\\bar{x}_{j+1} = \\frac{1}{m} \\sum_{i=1}^m x_i'$\n",
    "- Richtet $\\bar{x}_{j+1}$ an $\\bar{x}_0$ aus und normiert auf $\\|\\bar{x}_{j+1}\\|=1$\n",
    "\n",
    "Plottet nach jedem Schritt die ausgerichteten Formen, sowie die aktuelle Referenz. (5P)"
   ]
  },
  {
   "cell_type": "markdown",
   "metadata": {},
   "source": [
    "_Lösung:_"
   ]
  },
  {
   "cell_type": "markdown",
   "metadata": {},
   "source": [
    "### Aufgabe 2 (Berechnung eines Formmodells, 10 Punkte)\n",
    "\n",
    "Nachdem wir in Aufgabe 1 die Referenzform berechnet haben, möchten wir nun die Deformationen über eine Hauptkomponenten-Analyse modellieren, vgl. Folie 69."
   ]
  },
  {
   "cell_type": "markdown",
   "metadata": {},
   "source": [
    "a) Stellt die ausgerichteten Formen aus 1e) nun statt als 3D-Array als $4\\times 32$ Matrix dar, deren Spalten sowohl die x- als auch die y-Koordinaten enthalten. Falls Ihr 1e) nicht gelöst habt, geben wir diese Matrix in `tree.npz` als `arr_1` vor, damit Ihr die übrigen Schritte bearbeiten könnt. (2P)"
   ]
  },
  {
   "cell_type": "markdown",
   "metadata": {},
   "source": [
    "_Lösung:_"
   ]
  },
  {
   "cell_type": "markdown",
   "metadata": {},
   "source": [
    "b) Berechnet eine Hauptkomponentenanalyse der ausgerichteten Formen. Wie viele Komponenten benötigt man, um 98% der totalen Varianz abzudecken? (4P)  \n",
    "_Tipp:_ Hierzu könnt Ihr die Implementierung in `sklearn.decomposition.PCA` nutzen."
   ]
  },
  {
   "cell_type": "markdown",
   "metadata": {},
   "source": [
    "_Lösung:_"
   ]
  },
  {
   "cell_type": "markdown",
   "metadata": {},
   "source": [
    "c) Visualisiert die Deformation in der ersten Hauptkomponente, indem ihr $\\pm3\\sqrt{\\lambda_1}$ mal der ersten Hauptkomponente auf die Referenz addiert. (4P)  \n",
    "_Tipp:_ Die Eigenwerte speichert scikit-learn in `explained_variance_`."
   ]
  },
  {
   "cell_type": "markdown",
   "metadata": {},
   "source": [
    "_Lösung:_"
   ]
  },
  {
   "cell_type": "markdown",
   "metadata": {},
   "source": [
    "### Aufgabe 3 (Visuelle Bewertung von Multi-Modaler Registrierung, 10 Punkte)\n",
    "\n",
    "<table><tr>\n",
    "<td> <img src=\"CT.png\" alt=\"Pelvic MRT\" style=\"width: 100%;\"/> </td>\n",
    "<td> <img src=\"MRT.png\" alt=\"Pelvic CT\" style=\"width: 100%;\"/> </td>\n",
    "</tr></table>\n",
    "\n",
    "In dieser Aufgabe geht es um die visuelle Evaluierung der Registrierung zweier medizinischer Bilddaten unterschiedlicher Modalitäten (CT und MRT), konkret aus dem Beckenbereich. Schaut euch hierzu die zwei nicht perfekt registrierten Bilder ```CT.png``` und ```MRT.png``` an. Ziel ist es, verschiedene Visualisierungsansätze zu implementieren, die euch helfen, etwaige Ungenauigkeiten in der Registrierung besser wahrzunehmen."
   ]
  },
  {
   "cell_type": "markdown",
   "metadata": {},
   "source": [
    "&nbsp;  \n",
    "a) Implementiert eine Funktion, die die beiden Bilder in unterschiedlichen Farbkanälen übereinander legt (z.B. MRT in rot, CT in grün). Um später besser bewerten zu können, welche Konfigurationen euch am besten helfen, Registrierungsfehler zu erkennen, soll die Funktion die Farbkanalzuweisung als Argument übergeben bekommen. (3P)"
   ]
  },
  {
   "cell_type": "code",
   "execution_count": null,
   "metadata": {},
   "outputs": [],
   "source": [
    "# Lösung\n"
   ]
  },
  {
   "cell_type": "markdown",
   "metadata": {},
   "source": [
    "&nbsp;  \n",
    "b) Implementiert nun eine Checkerboard-Visualisierung: Unterteilt das Ausgabebild in quadratische Patches, die abwechselnd aus dem MRT- und dem CT-Bild stammen. Der Patchgrößenparameter soll hierbei direkt an die Funktion übergeben werden, um verschieden große Checkerboards vergleichen zu können. Achtet dabei auf eine geeignete Handhabung von Randbereichen. (5P)"
   ]
  },
  {
   "cell_type": "code",
   "execution_count": null,
   "metadata": {},
   "outputs": [],
   "source": [
    "# Lösung\n"
   ]
  },
  {
   "cell_type": "markdown",
   "metadata": {},
   "source": [
    "&nbsp; \n",
    "c) Probiert verschiedene Farbkanalzuweisungen für die Überlagerung sowie unterschiedliche Patchgrößen für das Checkerboard aus. Welche Konfigurationen eignen sich eurer Meinung nach am besten, um die Registrierung qualitativ zu beurteilen? Begründet eure Wahl. (2P)"
   ]
  },
  {
   "cell_type": "code",
   "execution_count": null,
   "metadata": {},
   "outputs": [],
   "source": [
    "# Lösung\n"
   ]
  },
  {
   "cell_type": "markdown",
   "metadata": {},
   "source": [
    "### Aufgabe 4 (Bild- und Weltkoordinatensysteme, 10 Punkte)\n",
    "a) In Kapitel 5, Folie 31 haben wir mit xy- und rc-Koordinaten zwei verschiedene Konventionen für Bildkoordinatensysteme diskutiert. Schreibt eine Transformationsmatrix auf, mit der man in einem $640\\times 480$ Pixel (Breite mal Höhe) großen Bild xy- in rc-Koordinaten umrechnen kann. Die Indizierung der Pixel soll dabei in beiden Fällen bei 0 beginnen. (5P)"
   ]
  },
  {
   "cell_type": "markdown",
   "metadata": {},
   "source": [
    "_Lösung:_\n"
   ]
  },
  {
   "cell_type": "markdown",
   "metadata": {},
   "source": [
    "b) Folgende zwei MRT-Aufnahmen wurden in derselben Sitzung angefertigt und sind daher intrinsisch registriert: Ein $T_1$-gewichtetes Bild mit $256\\times 256\\times 220$ Voxeln der Kantenlänge 1mm sowie eine Reihe Diffusions-gewichteter Bilder mit $112\\times 112\\times 60$ Voxeln der Kantenlänge 2mm. In beiden Fällen sind die Achsen der Bild- und Weltkoordinatensysteme parallel zueinander. Bild- und Weltkoordinaten steigen außerdem in derselben Richtung an. In Weltkoordinaten liegt der Ursprung des $T_1$-Bildes bei $(-135,-110,-80)$, der Diffusions-gewichteten Bilder bei $(-120,-95,-30)$. Berechnet eine Transformationsmatrix um Bildkoordinaten im $T_1$-Bild in Bildkoordinaten im Diffusions-gewichteten Bild umzurechnen. (5P)  \n",
    "_Tipp:_ Nutzt gern Python zur Matrixinvertierung."
   ]
  },
  {
   "cell_type": "code",
   "execution_count": null,
   "metadata": {},
   "outputs": [],
   "source": [
    "# Lösung\n"
   ]
  }
 ],
 "metadata": {
  "kernelspec": {
   "display_name": "Python 3 (ipykernel)",
   "language": "python",
   "name": "python3"
  },
  "language_info": {
   "codemirror_mode": {
    "name": "ipython",
    "version": 3
   },
   "file_extension": ".py",
   "mimetype": "text/x-python",
   "name": "python",
   "nbconvert_exporter": "python",
   "pygments_lexer": "ipython3",
   "version": "3.9.13"
  }
 },
 "nbformat": 4,
 "nbformat_minor": 2
}
